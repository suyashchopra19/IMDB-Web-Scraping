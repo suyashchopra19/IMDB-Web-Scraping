{
 "cells": [
  {
   "cell_type": "code",
   "execution_count": 1,
   "metadata": {},
   "outputs": [
    {
     "name": "stderr",
     "output_type": "stream",
     "text": [
      "/Users/suyashchopra/anaconda/lib/python2.7/site-packages/bs4/__init__.py:181: UserWarning: No parser was explicitly specified, so I'm using the best available HTML parser for this system (\"lxml\"). This usually isn't a problem, but if you run this code on another system, or in a different virtual environment, it may use a different parser and behave differently.\n",
      "\n",
      "The code that caused this warning is on line 174 of the file /Users/suyashchopra/anaconda/lib/python2.7/runpy.py. To get rid of this warning, change code that looks like this:\n",
      "\n",
      " BeautifulSoup(YOUR_MARKUP})\n",
      "\n",
      "to this:\n",
      "\n",
      " BeautifulSoup(YOUR_MARKUP, \"lxml\")\n",
      "\n",
      "  markup_type=markup_type))\n"
     ]
    }
   ],
   "source": [
    "from bs4 import BeautifulSoup\n",
    "import pandas as pd\n",
    "import requests\n",
    "imdb_url='http://www.imdb.com/chart/tvmeter'\n",
    "imdb = requests.get(imdb_url).text\n",
    "imdb = BeautifulSoup(imdb)"
   ]
  },
  {
   "cell_type": "code",
   "execution_count": 2,
   "metadata": {},
   "outputs": [
    {
     "name": "stdout",
     "output_type": "stream",
     "text": [
      "['tt0944947', 'tt5071412', 'tt2861424', 'tt1632701', 'tt5669272', 'tt6048596', 'tt1520211', 'tt1586680', 'tt2306299', 'tt2249007', 'tt2372162', 'tt2891574', 'tt0108778', 'tt4574334', 'tt1844624', 'tt5834204', 'tt0903747', 'tt3107288', 'tt6298780', 'tt2193021', 'tt0460681', 'tt4181172', 'tt0413573', 'tt4998350', 'tt5464086', 'tt4093826', 'tt2654620', 'tt5420376', 'tt0475784', 'tt1567432', 'tt2661044', 'tt3281796', 'tt4230076', 'tt5016504', 'tt6170874', 'tt1856010', 'tt1837492', 'tt1442437', 'tt0898266', 'tt0386676', 'tt0455275', 'tt2085059', 'tt0452046', 'tt0099864', 'tt0364845', 'tt2802850', 'tt1898069', 'tt2707408', 'tt1578873', 'tt5574490', 'tt3006802', 'tt1405406', 'tt4145054', 'tt2234222', 'tt0436992', 'tt0182576', 'tt0460649', 'tt4354880', 'tt5770786', 'tt1843230', 'tt4052886', 'tt2442560', 'tt4341500', 'tt1475582', 'tt1796960', 'tt1124373', 'tt4786824', 'tt2741602', 'tt5540054', 'tt2632424', 'tt4159076', 'tt0203259', 'tt6439752', 'tt5117876', 'tt3636060', 'tt3749900', 'tt2103085', 'tt5197820', 'tt5834198', 'tt5618256', 'tt2364582', 'tt6315640', 'tt3743822', 'tt6064882', 'tt3920596', 'tt3250026', 'tt0098936', 'tt5171438', 'tt0411008', 'tt0121955', 'tt5565334', 'tt4158110', 'tt4016454', 'tt3322310', 'tt5024912', 'tt0165598', 'tt3032476', 'tt0773262', 'tt4898282', 'tt0472954']\n"
     ]
    }
   ],
   "source": [
    "import re\n",
    "import urllib\n",
    "import lxml.html\n",
    "title_number=[]\n",
    "connection = urllib.urlopen('http://www.imdb.com/chart/tvmeter?ref_=nv_tvv_mptv_4')\n",
    "\n",
    "dom =  lxml.html.fromstring(connection.read())\n",
    "for link in dom.xpath('//a/@href'):\n",
    "    title_number.append(link)\n",
    "\n",
    "title_number_1 = '/n'.join(title_number)\n",
    "\n",
    "result = re.findall('tt[0-9]......',title_number_1)\n",
    "title_id=result[0:500:2]\n",
    "print title_id"
   ]
  },
  {
   "cell_type": "code",
   "execution_count": 3,
   "metadata": {},
   "outputs": [
    {
     "name": "stdout",
     "output_type": "stream",
     "text": [
      "does not exist\n",
      "does not exist\n",
      "does not exist\n",
      "does not exist\n"
     ]
    }
   ],
   "source": [
    "# to check if ratings exist for title\n",
    "for i in title_id:\n",
    "    import requests\n",
    "    request = requests.get('http://www.imdb.com/title/'+i+'/ratings')\n",
    "    if 'Males' in request.text:\n",
    "        title_id=title_id\n",
    "    else:\n",
    "        print 'does not exist'\n",
    "        title_id.remove(i)"
   ]
  },
  {
   "cell_type": "code",
   "execution_count": 9,
   "metadata": {
    "collapsed": true
   },
   "outputs": [],
   "source": [
    "def title(name):\n",
    "    url_title='http://www.imdb.com/title/'+name\n",
    "    title_name=BeautifulSoup(requests.get(url_title).text)\n",
    "    title=title_name.find_all('h1',{'itemprop':'name'})\n",
    "    titleString = [tag.get_text() for tag in title]\n",
    "    titleString=[x.strip(' ') for x in titleString] # to remove extra spaces\n",
    "    titleString=titleString[0]\n",
    "    Title=titleString\n",
    "    titleString=re.sub('[\\xa0]','',titleString,1)\n",
    "    Title={'Title':titleString}\n",
    "    Title=\"\".join(str(x) for x in titleString)\n",
    "    return Title"
   ]
  },
  {
   "cell_type": "code",
   "execution_count": null,
   "metadata": {
    "scrolled": true
   },
   "outputs": [
    {
     "name": "stdout",
     "output_type": "stream",
     "text": [
      "{'Title': ['Game of Thrones']}\n",
      "{'Title': ['Game of Thrones', 'Ozark']}\n",
      "{'Title': ['Game of Thrones', 'Ozark', 'Rick and Morty']}\n"
     ]
    }
   ],
   "source": [
    "title_dict={'Title':[]}\n",
    "for i in title_id:\n",
    "    title(i)\n",
    "    title_dict['Title'].append(title(i))\n",
    "    print title_dict"
   ]
  },
  {
   "cell_type": "code",
   "execution_count": 7,
   "metadata": {
    "collapsed": true
   },
   "outputs": [],
   "source": [
    "def rating(name):\n",
    "    url_title='http://www.imdb.com/title/'+name\n",
    "    title_name=BeautifulSoup(requests.get(url_title).text)\n",
    "    rating=title_name.find_all('span',{'itemprop':'ratingValue'})\n",
    "    ratingString=[tag.get_text() for tag in rating]\n",
    "    ratingString=\"\".join(str(x) for x in ratingString)\n",
    "    return ratingString"
   ]
  },
  {
   "cell_type": "code",
   "execution_count": 8,
   "metadata": {},
   "outputs": [
    {
     "name": "stdout",
     "output_type": "stream",
     "text": [
      "{'Rating': ['9.5']}\n",
      "{'Rating': ['9.5', '8.6']}\n",
      "{'Rating': ['9.5', '8.6', '9.3']}\n",
      "{'Rating': ['9.5', '8.6', '9.3', '8.6']}\n",
      "{'Rating': ['9.5', '8.6', '9.3', '8.6', '7.3']}\n",
      "{'Rating': ['9.5', '8.6', '9.3', '8.6', '7.3', '7.8']}\n",
      "{'Rating': ['9.5', '8.6', '9.3', '8.6', '7.3', '7.8', '8.5']}\n",
      "{'Rating': ['9.5', '8.6', '9.3', '8.6', '7.3', '7.8', '8.5', '8.7']}\n",
      "{'Rating': ['9.5', '8.6', '9.3', '8.6', '7.3', '7.8', '8.5', '8.7', '8.7']}\n",
      "{'Rating': ['9.5', '8.6', '9.3', '8.6', '7.3', '7.8', '8.5', '8.7', '8.7', '8.3']}\n",
      "{'Rating': ['9.5', '8.6', '9.3', '8.6', '7.3', '7.8', '8.5', '8.7', '8.7', '8.3', '8.2']}\n",
      "{'Rating': ['9.5', '8.6', '9.3', '8.6', '7.3', '7.8', '8.5', '8.7', '8.7', '8.3', '8.2', '7.6']}\n",
      "{'Rating': ['9.5', '8.6', '9.3', '8.6', '7.3', '7.8', '8.5', '8.7', '8.7', '8.3', '8.2', '7.6', '8.9']}\n",
      "{'Rating': ['9.5', '8.6', '9.3', '8.6', '7.3', '7.8', '8.5', '8.7', '8.7', '8.3', '8.2', '7.6', '8.9', '8.9']}\n",
      "{'Rating': ['9.5', '8.6', '9.3', '8.6', '7.3', '7.8', '8.5', '8.7', '8.7', '8.3', '8.2', '7.6', '8.9', '8.9', '8.2']}\n"
     ]
    },
    {
     "ename": "KeyboardInterrupt",
     "evalue": "",
     "output_type": "error",
     "traceback": [
      "\u001b[0;31m---------------------------------------------------------------------------\u001b[0m",
      "\u001b[0;31mKeyboardInterrupt\u001b[0m                         Traceback (most recent call last)",
      "\u001b[0;32m<ipython-input-8-7c3d9768f822>\u001b[0m in \u001b[0;36m<module>\u001b[0;34m()\u001b[0m\n\u001b[1;32m      2\u001b[0m \u001b[0;32mfor\u001b[0m \u001b[0mi\u001b[0m \u001b[0;32min\u001b[0m \u001b[0mtitle_id\u001b[0m\u001b[0;34m:\u001b[0m\u001b[0;34m\u001b[0m\u001b[0m\n\u001b[1;32m      3\u001b[0m     \u001b[0mrating\u001b[0m\u001b[0;34m(\u001b[0m\u001b[0mi\u001b[0m\u001b[0;34m)\u001b[0m\u001b[0;34m\u001b[0m\u001b[0m\n\u001b[0;32m----> 4\u001b[0;31m     \u001b[0mrating_dict\u001b[0m\u001b[0;34m[\u001b[0m\u001b[0;34m'Rating'\u001b[0m\u001b[0;34m]\u001b[0m\u001b[0;34m.\u001b[0m\u001b[0mappend\u001b[0m\u001b[0;34m(\u001b[0m\u001b[0mrating\u001b[0m\u001b[0;34m(\u001b[0m\u001b[0mi\u001b[0m\u001b[0;34m)\u001b[0m\u001b[0;34m)\u001b[0m\u001b[0;34m\u001b[0m\u001b[0m\n\u001b[0m\u001b[1;32m      5\u001b[0m     \u001b[0;32mprint\u001b[0m \u001b[0mrating_dict\u001b[0m\u001b[0;34m\u001b[0m\u001b[0m\n",
      "\u001b[0;32m<ipython-input-7-f3107fc38873>\u001b[0m in \u001b[0;36mrating\u001b[0;34m(name)\u001b[0m\n\u001b[1;32m      1\u001b[0m \u001b[0;32mdef\u001b[0m \u001b[0mrating\u001b[0m\u001b[0;34m(\u001b[0m\u001b[0mname\u001b[0m\u001b[0;34m)\u001b[0m\u001b[0;34m:\u001b[0m\u001b[0;34m\u001b[0m\u001b[0m\n\u001b[1;32m      2\u001b[0m     \u001b[0murl_title\u001b[0m\u001b[0;34m=\u001b[0m\u001b[0;34m'http://www.imdb.com/title/'\u001b[0m\u001b[0;34m+\u001b[0m\u001b[0mname\u001b[0m\u001b[0;34m\u001b[0m\u001b[0m\n\u001b[0;32m----> 3\u001b[0;31m     \u001b[0mtitle_name\u001b[0m\u001b[0;34m=\u001b[0m\u001b[0mBeautifulSoup\u001b[0m\u001b[0;34m(\u001b[0m\u001b[0mrequests\u001b[0m\u001b[0;34m.\u001b[0m\u001b[0mget\u001b[0m\u001b[0;34m(\u001b[0m\u001b[0murl_title\u001b[0m\u001b[0;34m)\u001b[0m\u001b[0;34m.\u001b[0m\u001b[0mtext\u001b[0m\u001b[0;34m)\u001b[0m\u001b[0;34m\u001b[0m\u001b[0m\n\u001b[0m\u001b[1;32m      4\u001b[0m     \u001b[0mrating\u001b[0m\u001b[0;34m=\u001b[0m\u001b[0mtitle_name\u001b[0m\u001b[0;34m.\u001b[0m\u001b[0mfind_all\u001b[0m\u001b[0;34m(\u001b[0m\u001b[0;34m'span'\u001b[0m\u001b[0;34m,\u001b[0m\u001b[0;34m{\u001b[0m\u001b[0;34m'itemprop'\u001b[0m\u001b[0;34m:\u001b[0m\u001b[0;34m'ratingValue'\u001b[0m\u001b[0;34m}\u001b[0m\u001b[0;34m)\u001b[0m\u001b[0;34m\u001b[0m\u001b[0m\n\u001b[1;32m      5\u001b[0m     \u001b[0mratingString\u001b[0m\u001b[0;34m=\u001b[0m\u001b[0;34m[\u001b[0m\u001b[0mtag\u001b[0m\u001b[0;34m.\u001b[0m\u001b[0mget_text\u001b[0m\u001b[0;34m(\u001b[0m\u001b[0;34m)\u001b[0m \u001b[0;32mfor\u001b[0m \u001b[0mtag\u001b[0m \u001b[0;32min\u001b[0m \u001b[0mrating\u001b[0m\u001b[0;34m]\u001b[0m\u001b[0;34m\u001b[0m\u001b[0m\n",
      "\u001b[0;32m/Users/suyashchopra/anaconda/lib/python2.7/site-packages/requests/api.pyc\u001b[0m in \u001b[0;36mget\u001b[0;34m(url, params, **kwargs)\u001b[0m\n\u001b[1;32m     70\u001b[0m \u001b[0;34m\u001b[0m\u001b[0m\n\u001b[1;32m     71\u001b[0m     \u001b[0mkwargs\u001b[0m\u001b[0;34m.\u001b[0m\u001b[0msetdefault\u001b[0m\u001b[0;34m(\u001b[0m\u001b[0;34m'allow_redirects'\u001b[0m\u001b[0;34m,\u001b[0m \u001b[0mTrue\u001b[0m\u001b[0;34m)\u001b[0m\u001b[0;34m\u001b[0m\u001b[0m\n\u001b[0;32m---> 72\u001b[0;31m     \u001b[0;32mreturn\u001b[0m \u001b[0mrequest\u001b[0m\u001b[0;34m(\u001b[0m\u001b[0;34m'get'\u001b[0m\u001b[0;34m,\u001b[0m \u001b[0murl\u001b[0m\u001b[0;34m,\u001b[0m \u001b[0mparams\u001b[0m\u001b[0;34m=\u001b[0m\u001b[0mparams\u001b[0m\u001b[0;34m,\u001b[0m \u001b[0;34m**\u001b[0m\u001b[0mkwargs\u001b[0m\u001b[0;34m)\u001b[0m\u001b[0;34m\u001b[0m\u001b[0m\n\u001b[0m\u001b[1;32m     73\u001b[0m \u001b[0;34m\u001b[0m\u001b[0m\n\u001b[1;32m     74\u001b[0m \u001b[0;34m\u001b[0m\u001b[0m\n",
      "\u001b[0;32m/Users/suyashchopra/anaconda/lib/python2.7/site-packages/requests/api.pyc\u001b[0m in \u001b[0;36mrequest\u001b[0;34m(method, url, **kwargs)\u001b[0m\n\u001b[1;32m     56\u001b[0m     \u001b[0;31m# cases, and look like a memory leak in others.\u001b[0m\u001b[0;34m\u001b[0m\u001b[0;34m\u001b[0m\u001b[0m\n\u001b[1;32m     57\u001b[0m     \u001b[0;32mwith\u001b[0m \u001b[0msessions\u001b[0m\u001b[0;34m.\u001b[0m\u001b[0mSession\u001b[0m\u001b[0;34m(\u001b[0m\u001b[0;34m)\u001b[0m \u001b[0;32mas\u001b[0m \u001b[0msession\u001b[0m\u001b[0;34m:\u001b[0m\u001b[0;34m\u001b[0m\u001b[0m\n\u001b[0;32m---> 58\u001b[0;31m         \u001b[0;32mreturn\u001b[0m \u001b[0msession\u001b[0m\u001b[0;34m.\u001b[0m\u001b[0mrequest\u001b[0m\u001b[0;34m(\u001b[0m\u001b[0mmethod\u001b[0m\u001b[0;34m=\u001b[0m\u001b[0mmethod\u001b[0m\u001b[0;34m,\u001b[0m \u001b[0murl\u001b[0m\u001b[0;34m=\u001b[0m\u001b[0murl\u001b[0m\u001b[0;34m,\u001b[0m \u001b[0;34m**\u001b[0m\u001b[0mkwargs\u001b[0m\u001b[0;34m)\u001b[0m\u001b[0;34m\u001b[0m\u001b[0m\n\u001b[0m\u001b[1;32m     59\u001b[0m \u001b[0;34m\u001b[0m\u001b[0m\n\u001b[1;32m     60\u001b[0m \u001b[0;34m\u001b[0m\u001b[0m\n",
      "\u001b[0;32m/Users/suyashchopra/anaconda/lib/python2.7/site-packages/requests/sessions.pyc\u001b[0m in \u001b[0;36mrequest\u001b[0;34m(self, method, url, params, data, headers, cookies, files, auth, timeout, allow_redirects, proxies, hooks, stream, verify, cert, json)\u001b[0m\n\u001b[1;32m    516\u001b[0m         }\n\u001b[1;32m    517\u001b[0m         \u001b[0msend_kwargs\u001b[0m\u001b[0;34m.\u001b[0m\u001b[0mupdate\u001b[0m\u001b[0;34m(\u001b[0m\u001b[0msettings\u001b[0m\u001b[0;34m)\u001b[0m\u001b[0;34m\u001b[0m\u001b[0m\n\u001b[0;32m--> 518\u001b[0;31m         \u001b[0mresp\u001b[0m \u001b[0;34m=\u001b[0m \u001b[0mself\u001b[0m\u001b[0;34m.\u001b[0m\u001b[0msend\u001b[0m\u001b[0;34m(\u001b[0m\u001b[0mprep\u001b[0m\u001b[0;34m,\u001b[0m \u001b[0;34m**\u001b[0m\u001b[0msend_kwargs\u001b[0m\u001b[0;34m)\u001b[0m\u001b[0;34m\u001b[0m\u001b[0m\n\u001b[0m\u001b[1;32m    519\u001b[0m \u001b[0;34m\u001b[0m\u001b[0m\n\u001b[1;32m    520\u001b[0m         \u001b[0;32mreturn\u001b[0m \u001b[0mresp\u001b[0m\u001b[0;34m\u001b[0m\u001b[0m\n",
      "\u001b[0;32m/Users/suyashchopra/anaconda/lib/python2.7/site-packages/requests/sessions.pyc\u001b[0m in \u001b[0;36msend\u001b[0;34m(self, request, **kwargs)\u001b[0m\n\u001b[1;32m    637\u001b[0m \u001b[0;34m\u001b[0m\u001b[0m\n\u001b[1;32m    638\u001b[0m         \u001b[0;31m# Send the request\u001b[0m\u001b[0;34m\u001b[0m\u001b[0;34m\u001b[0m\u001b[0m\n\u001b[0;32m--> 639\u001b[0;31m         \u001b[0mr\u001b[0m \u001b[0;34m=\u001b[0m \u001b[0madapter\u001b[0m\u001b[0;34m.\u001b[0m\u001b[0msend\u001b[0m\u001b[0;34m(\u001b[0m\u001b[0mrequest\u001b[0m\u001b[0;34m,\u001b[0m \u001b[0;34m**\u001b[0m\u001b[0mkwargs\u001b[0m\u001b[0;34m)\u001b[0m\u001b[0;34m\u001b[0m\u001b[0m\n\u001b[0m\u001b[1;32m    640\u001b[0m \u001b[0;34m\u001b[0m\u001b[0m\n\u001b[1;32m    641\u001b[0m         \u001b[0;31m# Total elapsed time of the request (approximately)\u001b[0m\u001b[0;34m\u001b[0m\u001b[0;34m\u001b[0m\u001b[0m\n",
      "\u001b[0;32m/Users/suyashchopra/anaconda/lib/python2.7/site-packages/requests/adapters.pyc\u001b[0m in \u001b[0;36msend\u001b[0;34m(self, request, stream, timeout, verify, cert, proxies)\u001b[0m\n\u001b[1;32m    436\u001b[0m                     \u001b[0mdecode_content\u001b[0m\u001b[0;34m=\u001b[0m\u001b[0mFalse\u001b[0m\u001b[0;34m,\u001b[0m\u001b[0;34m\u001b[0m\u001b[0m\n\u001b[1;32m    437\u001b[0m                     \u001b[0mretries\u001b[0m\u001b[0;34m=\u001b[0m\u001b[0mself\u001b[0m\u001b[0;34m.\u001b[0m\u001b[0mmax_retries\u001b[0m\u001b[0;34m,\u001b[0m\u001b[0;34m\u001b[0m\u001b[0m\n\u001b[0;32m--> 438\u001b[0;31m                     \u001b[0mtimeout\u001b[0m\u001b[0;34m=\u001b[0m\u001b[0mtimeout\u001b[0m\u001b[0;34m\u001b[0m\u001b[0m\n\u001b[0m\u001b[1;32m    439\u001b[0m                 )\n\u001b[1;32m    440\u001b[0m \u001b[0;34m\u001b[0m\u001b[0m\n",
      "\u001b[0;32m/Users/suyashchopra/anaconda/lib/python2.7/site-packages/requests/packages/urllib3/connectionpool.pyc\u001b[0m in \u001b[0;36murlopen\u001b[0;34m(self, method, url, body, headers, retries, redirect, assert_same_host, timeout, pool_timeout, release_conn, chunked, body_pos, **response_kw)\u001b[0m\n\u001b[1;32m    598\u001b[0m                                                   \u001b[0mtimeout\u001b[0m\u001b[0;34m=\u001b[0m\u001b[0mtimeout_obj\u001b[0m\u001b[0;34m,\u001b[0m\u001b[0;34m\u001b[0m\u001b[0m\n\u001b[1;32m    599\u001b[0m                                                   \u001b[0mbody\u001b[0m\u001b[0;34m=\u001b[0m\u001b[0mbody\u001b[0m\u001b[0;34m,\u001b[0m \u001b[0mheaders\u001b[0m\u001b[0;34m=\u001b[0m\u001b[0mheaders\u001b[0m\u001b[0;34m,\u001b[0m\u001b[0;34m\u001b[0m\u001b[0m\n\u001b[0;32m--> 600\u001b[0;31m                                                   chunked=chunked)\n\u001b[0m\u001b[1;32m    601\u001b[0m \u001b[0;34m\u001b[0m\u001b[0m\n\u001b[1;32m    602\u001b[0m             \u001b[0;31m# If we're going to release the connection in ``finally:``, then\u001b[0m\u001b[0;34m\u001b[0m\u001b[0;34m\u001b[0m\u001b[0m\n",
      "\u001b[0;32m/Users/suyashchopra/anaconda/lib/python2.7/site-packages/requests/packages/urllib3/connectionpool.pyc\u001b[0m in \u001b[0;36m_make_request\u001b[0;34m(self, conn, method, url, timeout, chunked, **httplib_request_kw)\u001b[0m\n\u001b[1;32m    377\u001b[0m         \u001b[0;32mtry\u001b[0m\u001b[0;34m:\u001b[0m\u001b[0;34m\u001b[0m\u001b[0m\n\u001b[1;32m    378\u001b[0m             \u001b[0;32mtry\u001b[0m\u001b[0;34m:\u001b[0m  \u001b[0;31m# Python 2.7, use buffering of HTTP responses\u001b[0m\u001b[0;34m\u001b[0m\u001b[0m\n\u001b[0;32m--> 379\u001b[0;31m                 \u001b[0mhttplib_response\u001b[0m \u001b[0;34m=\u001b[0m \u001b[0mconn\u001b[0m\u001b[0;34m.\u001b[0m\u001b[0mgetresponse\u001b[0m\u001b[0;34m(\u001b[0m\u001b[0mbuffering\u001b[0m\u001b[0;34m=\u001b[0m\u001b[0mTrue\u001b[0m\u001b[0;34m)\u001b[0m\u001b[0;34m\u001b[0m\u001b[0m\n\u001b[0m\u001b[1;32m    380\u001b[0m             \u001b[0;32mexcept\u001b[0m \u001b[0mTypeError\u001b[0m\u001b[0;34m:\u001b[0m  \u001b[0;31m# Python 2.6 and older, Python 3\u001b[0m\u001b[0;34m\u001b[0m\u001b[0m\n\u001b[1;32m    381\u001b[0m                 \u001b[0;32mtry\u001b[0m\u001b[0;34m:\u001b[0m\u001b[0;34m\u001b[0m\u001b[0m\n",
      "\u001b[0;32m/Users/suyashchopra/anaconda/lib/python2.7/httplib.pyc\u001b[0m in \u001b[0;36mgetresponse\u001b[0;34m(self, buffering)\u001b[0m\n\u001b[1;32m   1119\u001b[0m \u001b[0;34m\u001b[0m\u001b[0m\n\u001b[1;32m   1120\u001b[0m         \u001b[0;32mtry\u001b[0m\u001b[0;34m:\u001b[0m\u001b[0;34m\u001b[0m\u001b[0m\n\u001b[0;32m-> 1121\u001b[0;31m             \u001b[0mresponse\u001b[0m\u001b[0;34m.\u001b[0m\u001b[0mbegin\u001b[0m\u001b[0;34m(\u001b[0m\u001b[0;34m)\u001b[0m\u001b[0;34m\u001b[0m\u001b[0m\n\u001b[0m\u001b[1;32m   1122\u001b[0m             \u001b[0;32massert\u001b[0m \u001b[0mresponse\u001b[0m\u001b[0;34m.\u001b[0m\u001b[0mwill_close\u001b[0m \u001b[0;34m!=\u001b[0m \u001b[0m_UNKNOWN\u001b[0m\u001b[0;34m\u001b[0m\u001b[0m\n\u001b[1;32m   1123\u001b[0m             \u001b[0mself\u001b[0m\u001b[0;34m.\u001b[0m\u001b[0m__state\u001b[0m \u001b[0;34m=\u001b[0m \u001b[0m_CS_IDLE\u001b[0m\u001b[0;34m\u001b[0m\u001b[0m\n",
      "\u001b[0;32m/Users/suyashchopra/anaconda/lib/python2.7/httplib.pyc\u001b[0m in \u001b[0;36mbegin\u001b[0;34m(self)\u001b[0m\n\u001b[1;32m    436\u001b[0m         \u001b[0;31m# read until we get a non-100 response\u001b[0m\u001b[0;34m\u001b[0m\u001b[0;34m\u001b[0m\u001b[0m\n\u001b[1;32m    437\u001b[0m         \u001b[0;32mwhile\u001b[0m \u001b[0mTrue\u001b[0m\u001b[0;34m:\u001b[0m\u001b[0;34m\u001b[0m\u001b[0m\n\u001b[0;32m--> 438\u001b[0;31m             \u001b[0mversion\u001b[0m\u001b[0;34m,\u001b[0m \u001b[0mstatus\u001b[0m\u001b[0;34m,\u001b[0m \u001b[0mreason\u001b[0m \u001b[0;34m=\u001b[0m \u001b[0mself\u001b[0m\u001b[0;34m.\u001b[0m\u001b[0m_read_status\u001b[0m\u001b[0;34m(\u001b[0m\u001b[0;34m)\u001b[0m\u001b[0;34m\u001b[0m\u001b[0m\n\u001b[0m\u001b[1;32m    439\u001b[0m             \u001b[0;32mif\u001b[0m \u001b[0mstatus\u001b[0m \u001b[0;34m!=\u001b[0m \u001b[0mCONTINUE\u001b[0m\u001b[0;34m:\u001b[0m\u001b[0;34m\u001b[0m\u001b[0m\n\u001b[1;32m    440\u001b[0m                 \u001b[0;32mbreak\u001b[0m\u001b[0;34m\u001b[0m\u001b[0m\n",
      "\u001b[0;32m/Users/suyashchopra/anaconda/lib/python2.7/httplib.pyc\u001b[0m in \u001b[0;36m_read_status\u001b[0;34m(self)\u001b[0m\n\u001b[1;32m    392\u001b[0m     \u001b[0;32mdef\u001b[0m \u001b[0m_read_status\u001b[0m\u001b[0;34m(\u001b[0m\u001b[0mself\u001b[0m\u001b[0;34m)\u001b[0m\u001b[0;34m:\u001b[0m\u001b[0;34m\u001b[0m\u001b[0m\n\u001b[1;32m    393\u001b[0m         \u001b[0;31m# Initialize with Simple-Response defaults\u001b[0m\u001b[0;34m\u001b[0m\u001b[0;34m\u001b[0m\u001b[0m\n\u001b[0;32m--> 394\u001b[0;31m         \u001b[0mline\u001b[0m \u001b[0;34m=\u001b[0m \u001b[0mself\u001b[0m\u001b[0;34m.\u001b[0m\u001b[0mfp\u001b[0m\u001b[0;34m.\u001b[0m\u001b[0mreadline\u001b[0m\u001b[0;34m(\u001b[0m\u001b[0m_MAXLINE\u001b[0m \u001b[0;34m+\u001b[0m \u001b[0;36m1\u001b[0m\u001b[0;34m)\u001b[0m\u001b[0;34m\u001b[0m\u001b[0m\n\u001b[0m\u001b[1;32m    395\u001b[0m         \u001b[0;32mif\u001b[0m \u001b[0mlen\u001b[0m\u001b[0;34m(\u001b[0m\u001b[0mline\u001b[0m\u001b[0;34m)\u001b[0m \u001b[0;34m>\u001b[0m \u001b[0m_MAXLINE\u001b[0m\u001b[0;34m:\u001b[0m\u001b[0;34m\u001b[0m\u001b[0m\n\u001b[1;32m    396\u001b[0m             \u001b[0;32mraise\u001b[0m \u001b[0mLineTooLong\u001b[0m\u001b[0;34m(\u001b[0m\u001b[0;34m\"header line\"\u001b[0m\u001b[0;34m)\u001b[0m\u001b[0;34m\u001b[0m\u001b[0m\n",
      "\u001b[0;32m/Users/suyashchopra/anaconda/lib/python2.7/socket.pyc\u001b[0m in \u001b[0;36mreadline\u001b[0;34m(self, size)\u001b[0m\n\u001b[1;32m    478\u001b[0m             \u001b[0;32mwhile\u001b[0m \u001b[0mTrue\u001b[0m\u001b[0;34m:\u001b[0m\u001b[0;34m\u001b[0m\u001b[0m\n\u001b[1;32m    479\u001b[0m                 \u001b[0;32mtry\u001b[0m\u001b[0;34m:\u001b[0m\u001b[0;34m\u001b[0m\u001b[0m\n\u001b[0;32m--> 480\u001b[0;31m                     \u001b[0mdata\u001b[0m \u001b[0;34m=\u001b[0m \u001b[0mself\u001b[0m\u001b[0;34m.\u001b[0m\u001b[0m_sock\u001b[0m\u001b[0;34m.\u001b[0m\u001b[0mrecv\u001b[0m\u001b[0;34m(\u001b[0m\u001b[0mself\u001b[0m\u001b[0;34m.\u001b[0m\u001b[0m_rbufsize\u001b[0m\u001b[0;34m)\u001b[0m\u001b[0;34m\u001b[0m\u001b[0m\n\u001b[0m\u001b[1;32m    481\u001b[0m                 \u001b[0;32mexcept\u001b[0m \u001b[0merror\u001b[0m\u001b[0;34m,\u001b[0m \u001b[0me\u001b[0m\u001b[0;34m:\u001b[0m\u001b[0;34m\u001b[0m\u001b[0m\n\u001b[1;32m    482\u001b[0m                     \u001b[0;32mif\u001b[0m \u001b[0me\u001b[0m\u001b[0;34m.\u001b[0m\u001b[0margs\u001b[0m\u001b[0;34m[\u001b[0m\u001b[0;36m0\u001b[0m\u001b[0;34m]\u001b[0m \u001b[0;34m==\u001b[0m \u001b[0mEINTR\u001b[0m\u001b[0;34m:\u001b[0m\u001b[0;34m\u001b[0m\u001b[0m\n",
      "\u001b[0;31mKeyboardInterrupt\u001b[0m: "
     ]
    }
   ],
   "source": [
    "rating_dict={'Rating':[]}\n",
    "for i in title_id:\n",
    "    rating(i)\n",
    "    rating_dict['Rating'].append(rating(i))\n",
    "    print rating_dict"
   ]
  },
  {
   "cell_type": "code",
   "execution_count": 7,
   "metadata": {
    "collapsed": true
   },
   "outputs": [],
   "source": [
    "def runTime(name):\n",
    "    url_title='http://www.imdb.com/title/'+name\n",
    "    title_name=BeautifulSoup(requests.get(url_title).text)\n",
    "    time=title_name.find_all('time',{'itemprop':'duration'})\n",
    "    timeString=[tag.get_text() for tag in time]\n",
    "    timeString=[x.strip(' ') for x in timeString]\n",
    "    timeString=timeString[0]\n",
    "    timeString=re.sub('\\n *','',timeString)\n",
    "    timeString=\"\".join(str(x) for x in timeString)\n",
    "    return timeString"
   ]
  },
  {
   "cell_type": "code",
   "execution_count": 8,
   "metadata": {},
   "outputs": [
    {
     "name": "stdout",
     "output_type": "stream",
     "text": [
      "{'RunTime': ['1h']}\n",
      "{'RunTime': ['1h', '1h']}\n",
      "{'RunTime': ['1h', '1h', '1h']}\n",
      "{'RunTime': ['1h', '1h', '1h', '1h']}\n",
      "{'RunTime': ['1h', '1h', '1h', '1h', '56min']}\n",
      "{'RunTime': ['1h', '1h', '1h', '1h', '56min', '22min']}\n",
      "{'RunTime': ['1h', '1h', '1h', '1h', '56min', '22min', '43min']}\n",
      "{'RunTime': ['1h', '1h', '1h', '1h', '56min', '22min', '43min', '45min']}\n",
      "{'RunTime': ['1h', '1h', '1h', '1h', '56min', '22min', '43min', '45min', '53min']}\n",
      "{'RunTime': ['1h', '1h', '1h', '1h', '56min', '22min', '43min', '45min', '53min', '46min']}\n",
      "{'RunTime': ['1h', '1h', '1h', '1h', '56min', '22min', '43min', '45min', '53min', '46min', '41min']}\n",
      "{'RunTime': ['1h', '1h', '1h', '1h', '56min', '22min', '43min', '45min', '53min', '46min', '41min', '1h']}\n",
      "{'RunTime': ['1h', '1h', '1h', '1h', '56min', '22min', '43min', '45min', '53min', '46min', '41min', '1h', '46min']}\n",
      "{'RunTime': ['1h', '1h', '1h', '1h', '56min', '22min', '43min', '45min', '53min', '46min', '41min', '1h', '46min', '44min']}\n",
      "{'RunTime': ['1h', '1h', '1h', '1h', '56min', '22min', '43min', '45min', '53min', '46min', '41min', '1h', '46min', '44min', '44min']}\n",
      "{'RunTime': ['1h', '1h', '1h', '1h', '56min', '22min', '43min', '45min', '53min', '46min', '41min', '1h', '46min', '44min', '44min', '42min']}\n"
     ]
    },
    {
     "ename": "IndexError",
     "evalue": "list index out of range",
     "output_type": "error",
     "traceback": [
      "\u001b[0;31m---------------------------------------------------------------------------\u001b[0m",
      "\u001b[0;31mIndexError\u001b[0m                                Traceback (most recent call last)",
      "\u001b[0;32m<ipython-input-8-0eb0c998909f>\u001b[0m in \u001b[0;36m<module>\u001b[0;34m()\u001b[0m\n\u001b[1;32m      1\u001b[0m \u001b[0mruntime_dict\u001b[0m\u001b[0;34m=\u001b[0m\u001b[0;34m{\u001b[0m\u001b[0;34m'RunTime'\u001b[0m\u001b[0;34m:\u001b[0m\u001b[0;34m[\u001b[0m\u001b[0;34m]\u001b[0m\u001b[0;34m}\u001b[0m\u001b[0;34m\u001b[0m\u001b[0m\n\u001b[1;32m      2\u001b[0m \u001b[0;32mfor\u001b[0m \u001b[0mi\u001b[0m \u001b[0;32min\u001b[0m \u001b[0mtitle_id\u001b[0m\u001b[0;34m:\u001b[0m\u001b[0;34m\u001b[0m\u001b[0m\n\u001b[0;32m----> 3\u001b[0;31m     \u001b[0mrunTime\u001b[0m\u001b[0;34m(\u001b[0m\u001b[0mi\u001b[0m\u001b[0;34m)\u001b[0m\u001b[0;34m\u001b[0m\u001b[0m\n\u001b[0m\u001b[1;32m      4\u001b[0m     \u001b[0mruntime_dict\u001b[0m\u001b[0;34m[\u001b[0m\u001b[0;34m'RunTime'\u001b[0m\u001b[0;34m]\u001b[0m\u001b[0;34m.\u001b[0m\u001b[0mappend\u001b[0m\u001b[0;34m(\u001b[0m\u001b[0mrunTime\u001b[0m\u001b[0;34m(\u001b[0m\u001b[0mi\u001b[0m\u001b[0;34m)\u001b[0m\u001b[0;34m)\u001b[0m\u001b[0;34m\u001b[0m\u001b[0m\n\u001b[1;32m      5\u001b[0m     \u001b[0;32mprint\u001b[0m \u001b[0mruntime_dict\u001b[0m\u001b[0;34m\u001b[0m\u001b[0m\n",
      "\u001b[0;32m<ipython-input-7-0a4ded437e07>\u001b[0m in \u001b[0;36mrunTime\u001b[0;34m(name)\u001b[0m\n\u001b[1;32m      5\u001b[0m     \u001b[0mtimeString\u001b[0m\u001b[0;34m=\u001b[0m\u001b[0;34m[\u001b[0m\u001b[0mtag\u001b[0m\u001b[0;34m.\u001b[0m\u001b[0mget_text\u001b[0m\u001b[0;34m(\u001b[0m\u001b[0;34m)\u001b[0m \u001b[0;32mfor\u001b[0m \u001b[0mtag\u001b[0m \u001b[0;32min\u001b[0m \u001b[0mtime\u001b[0m\u001b[0;34m]\u001b[0m\u001b[0;34m\u001b[0m\u001b[0m\n\u001b[1;32m      6\u001b[0m     \u001b[0mtimeString\u001b[0m\u001b[0;34m=\u001b[0m\u001b[0;34m[\u001b[0m\u001b[0mx\u001b[0m\u001b[0;34m.\u001b[0m\u001b[0mstrip\u001b[0m\u001b[0;34m(\u001b[0m\u001b[0;34m' '\u001b[0m\u001b[0;34m)\u001b[0m \u001b[0;32mfor\u001b[0m \u001b[0mx\u001b[0m \u001b[0;32min\u001b[0m \u001b[0mtimeString\u001b[0m\u001b[0;34m]\u001b[0m\u001b[0;34m\u001b[0m\u001b[0m\n\u001b[0;32m----> 7\u001b[0;31m     \u001b[0mtimeString\u001b[0m\u001b[0;34m=\u001b[0m\u001b[0mtimeString\u001b[0m\u001b[0;34m[\u001b[0m\u001b[0;36m0\u001b[0m\u001b[0;34m]\u001b[0m\u001b[0;34m\u001b[0m\u001b[0m\n\u001b[0m\u001b[1;32m      8\u001b[0m     \u001b[0mtimeString\u001b[0m\u001b[0;34m=\u001b[0m\u001b[0mre\u001b[0m\u001b[0;34m.\u001b[0m\u001b[0msub\u001b[0m\u001b[0;34m(\u001b[0m\u001b[0;34m'\\n *'\u001b[0m\u001b[0;34m,\u001b[0m\u001b[0;34m''\u001b[0m\u001b[0;34m,\u001b[0m\u001b[0mtimeString\u001b[0m\u001b[0;34m)\u001b[0m\u001b[0;34m\u001b[0m\u001b[0m\n\u001b[1;32m      9\u001b[0m     \u001b[0mtimeString\u001b[0m\u001b[0;34m=\u001b[0m\u001b[0;34m\"\"\u001b[0m\u001b[0;34m.\u001b[0m\u001b[0mjoin\u001b[0m\u001b[0;34m(\u001b[0m\u001b[0mstr\u001b[0m\u001b[0;34m(\u001b[0m\u001b[0mx\u001b[0m\u001b[0;34m)\u001b[0m \u001b[0;32mfor\u001b[0m \u001b[0mx\u001b[0m \u001b[0;32min\u001b[0m \u001b[0mtimeString\u001b[0m\u001b[0;34m)\u001b[0m\u001b[0;34m\u001b[0m\u001b[0m\n",
      "\u001b[0;31mIndexError\u001b[0m: list index out of range"
     ]
    }
   ],
   "source": [
    "runtime_dict={'RunTime':[]}\n",
    "for i in title_id:\n",
    "    runTime(i)\n",
    "    runtime_dict['RunTime'].append(runTime(i))\n",
    "    print runtime_dict"
   ]
  },
  {
   "cell_type": "code",
   "execution_count": 10,
   "metadata": {
    "collapsed": true
   },
   "outputs": [],
   "source": [
    "def studio(name):\n",
    "    studios_2=[]\n",
    "    name_studio_2=[]\n",
    "    studios_1=[]\n",
    "    url='http://www.imdb.com/title/'+name+'/companycredits'\n",
    "    studio_name=BeautifulSoup(requests.get(url).text)\n",
    "    for a in studio_name.findAll('ul', attrs={'class':'simpleList'}):\n",
    "        name_studio_2.append(a.find_all('a'))\n",
    "    broadcaster=name_studio_2[1]\n",
    "    for i in broadcaster:\n",
    "        studios_1.append(i.string)    \n",
    "    for std in studios_1:\n",
    "        if std not in studios_2:\n",
    "            studios_2.append(std)\n",
    "    \n",
    "    #studios_2=\",\".join(str(x) for x in studios_2)\n",
    "    return studios_2[0]"
   ]
  },
  {
   "cell_type": "code",
   "execution_count": 12,
   "metadata": {
    "collapsed": true
   },
   "outputs": [
    {
     "name": "stdout",
     "output_type": "stream",
     "text": [
      "{'Studio': [u'Netflix']}\n",
      "{'Studio': [u'Netflix', u'Starz!']}\n",
      "{'Studio': [u'Netflix', u'Starz!', u'Hulu']}\n",
      "{'Studio': [u'Netflix', u'Starz!', u'Hulu', u'Netflix']}\n",
      "{'Studio': [u'Netflix', u'Starz!', u'Hulu', u'Netflix', u'Home Box Office (HBO)']}\n",
      "{'Studio': [u'Netflix', u'Starz!', u'Hulu', u'Netflix', u'Home Box Office (HBO)', u'Columbia Broadcasting System (CBS)']}\n",
      "{'Studio': [u'Netflix', u'Starz!', u'Hulu', u'Netflix', u'Home Box Office (HBO)', u'Columbia Broadcasting System (CBS)', u'The CW Television Network (The CW)']}\n",
      "{'Studio': [u'Netflix', u'Starz!', u'Hulu', u'Netflix', u'Home Box Office (HBO)', u'Columbia Broadcasting System (CBS)', u'The CW Television Network (The CW)', u'The CW Television Network (The CW)']}\n",
      "{'Studio': [u'Netflix', u'Starz!', u'Hulu', u'Netflix', u'Home Box Office (HBO)', u'Columbia Broadcasting System (CBS)', u'The CW Television Network (The CW)', u'The CW Television Network (The CW)', u'FX Network']}\n",
      "{'Studio': [u'Netflix', u'Starz!', u'Hulu', u'Netflix', u'Home Box Office (HBO)', u'Columbia Broadcasting System (CBS)', u'The CW Television Network (The CW)', u'The CW Television Network (The CW)', u'FX Network', u'Showtime Networks']}\n"
     ]
    },
    {
     "ename": "KeyboardInterrupt",
     "evalue": "",
     "output_type": "error",
     "traceback": [
      "\u001b[0;31m---------------------------------------------------------------------------\u001b[0m",
      "\u001b[0;31mKeyboardInterrupt\u001b[0m                         Traceback (most recent call last)",
      "\u001b[0;32m<ipython-input-12-47df4b3ce745>\u001b[0m in \u001b[0;36m<module>\u001b[0;34m()\u001b[0m\n\u001b[1;32m      2\u001b[0m \u001b[0;32mfor\u001b[0m \u001b[0mi\u001b[0m \u001b[0;32min\u001b[0m \u001b[0mtitle_id\u001b[0m\u001b[0;34m:\u001b[0m\u001b[0;34m\u001b[0m\u001b[0m\n\u001b[1;32m      3\u001b[0m     \u001b[0mstudio\u001b[0m\u001b[0;34m(\u001b[0m\u001b[0mi\u001b[0m\u001b[0;34m)\u001b[0m\u001b[0;34m\u001b[0m\u001b[0m\n\u001b[0;32m----> 4\u001b[0;31m     \u001b[0mstudio_dict\u001b[0m\u001b[0;34m[\u001b[0m\u001b[0;34m'Studio'\u001b[0m\u001b[0;34m]\u001b[0m\u001b[0;34m.\u001b[0m\u001b[0mappend\u001b[0m\u001b[0;34m(\u001b[0m\u001b[0mstudio\u001b[0m\u001b[0;34m(\u001b[0m\u001b[0mi\u001b[0m\u001b[0;34m)\u001b[0m\u001b[0;34m)\u001b[0m\u001b[0;34m\u001b[0m\u001b[0m\n\u001b[0m\u001b[1;32m      5\u001b[0m     \u001b[0;32mprint\u001b[0m \u001b[0mstudio_dict\u001b[0m\u001b[0;34m\u001b[0m\u001b[0m\n\u001b[1;32m      6\u001b[0m \u001b[0;34m\u001b[0m\u001b[0m\n",
      "\u001b[0;32m<ipython-input-10-86b84c0d5789>\u001b[0m in \u001b[0;36mstudio\u001b[0;34m(name)\u001b[0m\n\u001b[1;32m      4\u001b[0m     \u001b[0mstudios_1\u001b[0m\u001b[0;34m=\u001b[0m\u001b[0;34m[\u001b[0m\u001b[0;34m]\u001b[0m\u001b[0;34m\u001b[0m\u001b[0m\n\u001b[1;32m      5\u001b[0m     \u001b[0murl\u001b[0m\u001b[0;34m=\u001b[0m\u001b[0;34m'http://www.imdb.com/title/'\u001b[0m\u001b[0;34m+\u001b[0m\u001b[0mname\u001b[0m\u001b[0;34m+\u001b[0m\u001b[0;34m'/companycredits'\u001b[0m\u001b[0;34m\u001b[0m\u001b[0m\n\u001b[0;32m----> 6\u001b[0;31m     \u001b[0mstudio_name\u001b[0m\u001b[0;34m=\u001b[0m\u001b[0mBeautifulSoup\u001b[0m\u001b[0;34m(\u001b[0m\u001b[0mrequests\u001b[0m\u001b[0;34m.\u001b[0m\u001b[0mget\u001b[0m\u001b[0;34m(\u001b[0m\u001b[0murl\u001b[0m\u001b[0;34m)\u001b[0m\u001b[0;34m.\u001b[0m\u001b[0mtext\u001b[0m\u001b[0;34m)\u001b[0m\u001b[0;34m\u001b[0m\u001b[0m\n\u001b[0m\u001b[1;32m      7\u001b[0m     \u001b[0;32mfor\u001b[0m \u001b[0ma\u001b[0m \u001b[0;32min\u001b[0m \u001b[0mstudio_name\u001b[0m\u001b[0;34m.\u001b[0m\u001b[0mfindAll\u001b[0m\u001b[0;34m(\u001b[0m\u001b[0;34m'ul'\u001b[0m\u001b[0;34m,\u001b[0m \u001b[0mattrs\u001b[0m\u001b[0;34m=\u001b[0m\u001b[0;34m{\u001b[0m\u001b[0;34m'class'\u001b[0m\u001b[0;34m:\u001b[0m\u001b[0;34m'simpleList'\u001b[0m\u001b[0;34m}\u001b[0m\u001b[0;34m)\u001b[0m\u001b[0;34m:\u001b[0m\u001b[0;34m\u001b[0m\u001b[0m\n\u001b[1;32m      8\u001b[0m         \u001b[0mname_studio_2\u001b[0m\u001b[0;34m.\u001b[0m\u001b[0mappend\u001b[0m\u001b[0;34m(\u001b[0m\u001b[0ma\u001b[0m\u001b[0;34m.\u001b[0m\u001b[0mfind_all\u001b[0m\u001b[0;34m(\u001b[0m\u001b[0;34m'a'\u001b[0m\u001b[0;34m)\u001b[0m\u001b[0;34m)\u001b[0m\u001b[0;34m\u001b[0m\u001b[0m\n",
      "\u001b[0;32m/Users/suyashchopra/anaconda/lib/python2.7/site-packages/requests/api.pyc\u001b[0m in \u001b[0;36mget\u001b[0;34m(url, params, **kwargs)\u001b[0m\n\u001b[1;32m     68\u001b[0m \u001b[0;34m\u001b[0m\u001b[0m\n\u001b[1;32m     69\u001b[0m     \u001b[0mkwargs\u001b[0m\u001b[0;34m.\u001b[0m\u001b[0msetdefault\u001b[0m\u001b[0;34m(\u001b[0m\u001b[0;34m'allow_redirects'\u001b[0m\u001b[0;34m,\u001b[0m \u001b[0mTrue\u001b[0m\u001b[0;34m)\u001b[0m\u001b[0;34m\u001b[0m\u001b[0m\n\u001b[0;32m---> 70\u001b[0;31m     \u001b[0;32mreturn\u001b[0m \u001b[0mrequest\u001b[0m\u001b[0;34m(\u001b[0m\u001b[0;34m'get'\u001b[0m\u001b[0;34m,\u001b[0m \u001b[0murl\u001b[0m\u001b[0;34m,\u001b[0m \u001b[0mparams\u001b[0m\u001b[0;34m=\u001b[0m\u001b[0mparams\u001b[0m\u001b[0;34m,\u001b[0m \u001b[0;34m**\u001b[0m\u001b[0mkwargs\u001b[0m\u001b[0;34m)\u001b[0m\u001b[0;34m\u001b[0m\u001b[0m\n\u001b[0m\u001b[1;32m     71\u001b[0m \u001b[0;34m\u001b[0m\u001b[0m\n\u001b[1;32m     72\u001b[0m \u001b[0;34m\u001b[0m\u001b[0m\n",
      "\u001b[0;32m/Users/suyashchopra/anaconda/lib/python2.7/site-packages/requests/api.pyc\u001b[0m in \u001b[0;36mrequest\u001b[0;34m(method, url, **kwargs)\u001b[0m\n\u001b[1;32m     54\u001b[0m     \u001b[0;31m# cases, and look like a memory leak in others.\u001b[0m\u001b[0;34m\u001b[0m\u001b[0;34m\u001b[0m\u001b[0m\n\u001b[1;32m     55\u001b[0m     \u001b[0;32mwith\u001b[0m \u001b[0msessions\u001b[0m\u001b[0;34m.\u001b[0m\u001b[0mSession\u001b[0m\u001b[0;34m(\u001b[0m\u001b[0;34m)\u001b[0m \u001b[0;32mas\u001b[0m \u001b[0msession\u001b[0m\u001b[0;34m:\u001b[0m\u001b[0;34m\u001b[0m\u001b[0m\n\u001b[0;32m---> 56\u001b[0;31m         \u001b[0;32mreturn\u001b[0m \u001b[0msession\u001b[0m\u001b[0;34m.\u001b[0m\u001b[0mrequest\u001b[0m\u001b[0;34m(\u001b[0m\u001b[0mmethod\u001b[0m\u001b[0;34m=\u001b[0m\u001b[0mmethod\u001b[0m\u001b[0;34m,\u001b[0m \u001b[0murl\u001b[0m\u001b[0;34m=\u001b[0m\u001b[0murl\u001b[0m\u001b[0;34m,\u001b[0m \u001b[0;34m**\u001b[0m\u001b[0mkwargs\u001b[0m\u001b[0;34m)\u001b[0m\u001b[0;34m\u001b[0m\u001b[0m\n\u001b[0m\u001b[1;32m     57\u001b[0m \u001b[0;34m\u001b[0m\u001b[0m\n\u001b[1;32m     58\u001b[0m \u001b[0;34m\u001b[0m\u001b[0m\n",
      "\u001b[0;32m/Users/suyashchopra/anaconda/lib/python2.7/site-packages/requests/sessions.pyc\u001b[0m in \u001b[0;36mrequest\u001b[0;34m(self, method, url, params, data, headers, cookies, files, auth, timeout, allow_redirects, proxies, hooks, stream, verify, cert, json)\u001b[0m\n\u001b[1;32m    464\u001b[0m \u001b[0;34m\u001b[0m\u001b[0m\n\u001b[1;32m    465\u001b[0m         settings = self.merge_environment_settings(\n\u001b[0;32m--> 466\u001b[0;31m             \u001b[0mprep\u001b[0m\u001b[0;34m.\u001b[0m\u001b[0murl\u001b[0m\u001b[0;34m,\u001b[0m \u001b[0mproxies\u001b[0m\u001b[0;34m,\u001b[0m \u001b[0mstream\u001b[0m\u001b[0;34m,\u001b[0m \u001b[0mverify\u001b[0m\u001b[0;34m,\u001b[0m \u001b[0mcert\u001b[0m\u001b[0;34m\u001b[0m\u001b[0m\n\u001b[0m\u001b[1;32m    467\u001b[0m         )\n\u001b[1;32m    468\u001b[0m \u001b[0;34m\u001b[0m\u001b[0m\n",
      "\u001b[0;32m/Users/suyashchopra/anaconda/lib/python2.7/site-packages/requests/sessions.pyc\u001b[0m in \u001b[0;36mmerge_environment_settings\u001b[0;34m(self, url, proxies, stream, verify, cert)\u001b[0m\n\u001b[1;32m    639\u001b[0m         \u001b[0;32mif\u001b[0m \u001b[0mself\u001b[0m\u001b[0;34m.\u001b[0m\u001b[0mtrust_env\u001b[0m\u001b[0;34m:\u001b[0m\u001b[0;34m\u001b[0m\u001b[0m\n\u001b[1;32m    640\u001b[0m             \u001b[0;31m# Set environment's proxies.\u001b[0m\u001b[0;34m\u001b[0m\u001b[0;34m\u001b[0m\u001b[0m\n\u001b[0;32m--> 641\u001b[0;31m             \u001b[0menv_proxies\u001b[0m \u001b[0;34m=\u001b[0m \u001b[0mget_environ_proxies\u001b[0m\u001b[0;34m(\u001b[0m\u001b[0murl\u001b[0m\u001b[0;34m)\u001b[0m \u001b[0;32mor\u001b[0m \u001b[0;34m{\u001b[0m\u001b[0;34m}\u001b[0m\u001b[0;34m\u001b[0m\u001b[0m\n\u001b[0m\u001b[1;32m    642\u001b[0m             \u001b[0;32mfor\u001b[0m \u001b[0;34m(\u001b[0m\u001b[0mk\u001b[0m\u001b[0;34m,\u001b[0m \u001b[0mv\u001b[0m\u001b[0;34m)\u001b[0m \u001b[0;32min\u001b[0m \u001b[0menv_proxies\u001b[0m\u001b[0;34m.\u001b[0m\u001b[0mitems\u001b[0m\u001b[0;34m(\u001b[0m\u001b[0;34m)\u001b[0m\u001b[0;34m:\u001b[0m\u001b[0;34m\u001b[0m\u001b[0m\n\u001b[1;32m    643\u001b[0m                 \u001b[0mproxies\u001b[0m\u001b[0;34m.\u001b[0m\u001b[0msetdefault\u001b[0m\u001b[0;34m(\u001b[0m\u001b[0mk\u001b[0m\u001b[0;34m,\u001b[0m \u001b[0mv\u001b[0m\u001b[0;34m)\u001b[0m\u001b[0;34m\u001b[0m\u001b[0m\n",
      "\u001b[0;32m/Users/suyashchopra/anaconda/lib/python2.7/site-packages/requests/utils.pyc\u001b[0m in \u001b[0;36mget_environ_proxies\u001b[0;34m(url)\u001b[0m\n\u001b[1;32m    606\u001b[0m         \u001b[0;32mreturn\u001b[0m \u001b[0;34m{\u001b[0m\u001b[0;34m}\u001b[0m\u001b[0;34m\u001b[0m\u001b[0m\n\u001b[1;32m    607\u001b[0m     \u001b[0;32melse\u001b[0m\u001b[0;34m:\u001b[0m\u001b[0;34m\u001b[0m\u001b[0m\n\u001b[0;32m--> 608\u001b[0;31m         \u001b[0;32mreturn\u001b[0m \u001b[0mgetproxies\u001b[0m\u001b[0;34m(\u001b[0m\u001b[0;34m)\u001b[0m\u001b[0;34m\u001b[0m\u001b[0m\n\u001b[0m\u001b[1;32m    609\u001b[0m \u001b[0;34m\u001b[0m\u001b[0m\n\u001b[1;32m    610\u001b[0m \u001b[0;34m\u001b[0m\u001b[0m\n",
      "\u001b[0;32m/Users/suyashchopra/anaconda/lib/python2.7/urllib.pyc\u001b[0m in \u001b[0;36mgetproxies\u001b[0;34m()\u001b[0m\n\u001b[1;32m   1511\u001b[0m \u001b[0;34m\u001b[0m\u001b[0m\n\u001b[1;32m   1512\u001b[0m     \u001b[0;32mdef\u001b[0m \u001b[0mgetproxies\u001b[0m\u001b[0;34m(\u001b[0m\u001b[0;34m)\u001b[0m\u001b[0;34m:\u001b[0m\u001b[0;34m\u001b[0m\u001b[0m\n\u001b[0;32m-> 1513\u001b[0;31m         \u001b[0;32mreturn\u001b[0m \u001b[0mgetproxies_environment\u001b[0m\u001b[0;34m(\u001b[0m\u001b[0;34m)\u001b[0m \u001b[0;32mor\u001b[0m \u001b[0mgetproxies_macosx_sysconf\u001b[0m\u001b[0;34m(\u001b[0m\u001b[0;34m)\u001b[0m\u001b[0;34m\u001b[0m\u001b[0m\n\u001b[0m\u001b[1;32m   1514\u001b[0m \u001b[0;34m\u001b[0m\u001b[0m\n\u001b[1;32m   1515\u001b[0m \u001b[0;32melif\u001b[0m \u001b[0mos\u001b[0m\u001b[0;34m.\u001b[0m\u001b[0mname\u001b[0m \u001b[0;34m==\u001b[0m \u001b[0;34m'nt'\u001b[0m\u001b[0;34m:\u001b[0m\u001b[0;34m\u001b[0m\u001b[0m\n",
      "\u001b[0;32m/Users/suyashchopra/anaconda/lib/python2.7/urllib.pyc\u001b[0m in \u001b[0;36mgetproxies_macosx_sysconf\u001b[0;34m()\u001b[0m\n\u001b[1;32m   1496\u001b[0m         \u001b[0mto\u001b[0m \u001b[0mfetch\u001b[0m \u001b[0mthe\u001b[0m \u001b[0mproxy\u001b[0m \u001b[0minformation\u001b[0m\u001b[0;34m.\u001b[0m\u001b[0;34m\u001b[0m\u001b[0m\n\u001b[1;32m   1497\u001b[0m         \"\"\"\n\u001b[0;32m-> 1498\u001b[0;31m         \u001b[0;32mreturn\u001b[0m \u001b[0m_get_proxies\u001b[0m\u001b[0;34m(\u001b[0m\u001b[0;34m)\u001b[0m\u001b[0;34m\u001b[0m\u001b[0m\n\u001b[0m\u001b[1;32m   1499\u001b[0m \u001b[0;34m\u001b[0m\u001b[0m\n\u001b[1;32m   1500\u001b[0m     \u001b[0;32mdef\u001b[0m \u001b[0mproxy_bypass\u001b[0m\u001b[0;34m(\u001b[0m\u001b[0mhost\u001b[0m\u001b[0;34m)\u001b[0m\u001b[0;34m:\u001b[0m\u001b[0;34m\u001b[0m\u001b[0m\n",
      "\u001b[0;31mKeyboardInterrupt\u001b[0m: "
     ]
    }
   ],
   "source": [
    "studio_dict={'Studio':[]}\n",
    "for i in title_id:\n",
    "    studio(i)\n",
    "    studio_dict['Studio'].append(studio(i))\n",
    "    print studio_dict\n",
    "    "
   ]
  },
  {
   "cell_type": "code",
   "execution_count": 13,
   "metadata": {
    "collapsed": true
   },
   "outputs": [],
   "source": [
    "def males(name):\n",
    "    number=[]\n",
    "    url_1='http://www.imdb.com/title/'+name+'/ratings'\n",
    "    rating_txt=BeautifulSoup(requests.get(url_1).text)\n",
    "    secondtable = rating_txt.findAll('table')[1]\n",
    "    for i in secondtable.find_all('td')[4]:\n",
    "        number.append(i.string)\n",
    "        number= filter(None, number)\n",
    "        if 'Votes' in number: \n",
    "            number.remove('Votes')   \n",
    "        if 'Average' in number: \n",
    "            number.remove('Average') \n",
    "        number = filter(lambda x: x > 0, number)\n",
    "    return number"
   ]
  },
  {
   "cell_type": "code",
   "execution_count": 15,
   "metadata": {},
   "outputs": [
    {
     "name": "stdout",
     "output_type": "stream",
     "text": [
      "{'Males': [u'\\xa038790']}\n",
      "{'Males': [u'\\xa038790', u'\\xa04583']}\n",
      "{'Males': [u'\\xa038790', u'\\xa04583', u'\\xa01854']}\n",
      "{'Males': [u'\\xa038790', u'\\xa04583', u'\\xa01854', u'\\xa044252']}\n",
      "{'Males': [u'\\xa038790', u'\\xa04583', u'\\xa01854', u'\\xa044252', u'\\xa0681185']}\n"
     ]
    },
    {
     "ename": "KeyboardInterrupt",
     "evalue": "",
     "output_type": "error",
     "traceback": [
      "\u001b[0;31m---------------------------------------------------------------------------\u001b[0m",
      "\u001b[0;31mKeyboardInterrupt\u001b[0m                         Traceback (most recent call last)",
      "\u001b[0;32m<ipython-input-15-879f3b2c893e>\u001b[0m in \u001b[0;36m<module>\u001b[0;34m()\u001b[0m\n\u001b[1;32m      1\u001b[0m \u001b[0mmales_dict\u001b[0m\u001b[0;34m=\u001b[0m\u001b[0;34m{\u001b[0m\u001b[0;34m'Males'\u001b[0m\u001b[0;34m:\u001b[0m\u001b[0;34m[\u001b[0m\u001b[0;34m]\u001b[0m\u001b[0;34m}\u001b[0m\u001b[0;34m\u001b[0m\u001b[0m\n\u001b[1;32m      2\u001b[0m \u001b[0;32mfor\u001b[0m \u001b[0mi\u001b[0m \u001b[0;32min\u001b[0m \u001b[0mtitle_id\u001b[0m\u001b[0;34m:\u001b[0m\u001b[0;34m\u001b[0m\u001b[0m\n\u001b[0;32m----> 3\u001b[0;31m     \u001b[0mmales\u001b[0m\u001b[0;34m(\u001b[0m\u001b[0mi\u001b[0m\u001b[0;34m)\u001b[0m\u001b[0;34m\u001b[0m\u001b[0m\n\u001b[0m\u001b[1;32m      4\u001b[0m     \u001b[0;32mfor\u001b[0m \u001b[0ma\u001b[0m \u001b[0;32min\u001b[0m \u001b[0mmales\u001b[0m\u001b[0;34m(\u001b[0m\u001b[0mi\u001b[0m\u001b[0;34m)\u001b[0m\u001b[0;34m:\u001b[0m\u001b[0;34m\u001b[0m\u001b[0m\n\u001b[1;32m      5\u001b[0m         \u001b[0mmales_dict\u001b[0m\u001b[0;34m[\u001b[0m\u001b[0;34m'Males'\u001b[0m\u001b[0;34m]\u001b[0m\u001b[0;34m.\u001b[0m\u001b[0mappend\u001b[0m\u001b[0;34m(\u001b[0m\u001b[0ma\u001b[0m\u001b[0;34m)\u001b[0m\u001b[0;34m\u001b[0m\u001b[0m\n",
      "\u001b[0;32m<ipython-input-13-e8d093efdaa9>\u001b[0m in \u001b[0;36mmales\u001b[0;34m(name)\u001b[0m\n\u001b[1;32m      2\u001b[0m     \u001b[0mnumber\u001b[0m\u001b[0;34m=\u001b[0m\u001b[0;34m[\u001b[0m\u001b[0;34m]\u001b[0m\u001b[0;34m\u001b[0m\u001b[0m\n\u001b[1;32m      3\u001b[0m     \u001b[0murl_1\u001b[0m\u001b[0;34m=\u001b[0m\u001b[0;34m'http://www.imdb.com/title/'\u001b[0m\u001b[0;34m+\u001b[0m\u001b[0mname\u001b[0m\u001b[0;34m+\u001b[0m\u001b[0;34m'/ratings'\u001b[0m\u001b[0;34m\u001b[0m\u001b[0m\n\u001b[0;32m----> 4\u001b[0;31m     \u001b[0mrating_txt\u001b[0m\u001b[0;34m=\u001b[0m\u001b[0mBeautifulSoup\u001b[0m\u001b[0;34m(\u001b[0m\u001b[0mrequests\u001b[0m\u001b[0;34m.\u001b[0m\u001b[0mget\u001b[0m\u001b[0;34m(\u001b[0m\u001b[0murl_1\u001b[0m\u001b[0;34m)\u001b[0m\u001b[0;34m.\u001b[0m\u001b[0mtext\u001b[0m\u001b[0;34m)\u001b[0m\u001b[0;34m\u001b[0m\u001b[0m\n\u001b[0m\u001b[1;32m      5\u001b[0m     \u001b[0msecondtable\u001b[0m \u001b[0;34m=\u001b[0m \u001b[0mrating_txt\u001b[0m\u001b[0;34m.\u001b[0m\u001b[0mfindAll\u001b[0m\u001b[0;34m(\u001b[0m\u001b[0;34m'table'\u001b[0m\u001b[0;34m)\u001b[0m\u001b[0;34m[\u001b[0m\u001b[0;36m1\u001b[0m\u001b[0;34m]\u001b[0m\u001b[0;34m\u001b[0m\u001b[0m\n\u001b[1;32m      6\u001b[0m     \u001b[0;32mfor\u001b[0m \u001b[0mi\u001b[0m \u001b[0;32min\u001b[0m \u001b[0msecondtable\u001b[0m\u001b[0;34m.\u001b[0m\u001b[0mfind_all\u001b[0m\u001b[0;34m(\u001b[0m\u001b[0;34m'td'\u001b[0m\u001b[0;34m)\u001b[0m\u001b[0;34m[\u001b[0m\u001b[0;36m4\u001b[0m\u001b[0;34m]\u001b[0m\u001b[0;34m:\u001b[0m\u001b[0;34m\u001b[0m\u001b[0m\n",
      "\u001b[0;32m/Users/suyashchopra/anaconda/lib/python2.7/site-packages/requests/api.pyc\u001b[0m in \u001b[0;36mget\u001b[0;34m(url, params, **kwargs)\u001b[0m\n\u001b[1;32m     68\u001b[0m \u001b[0;34m\u001b[0m\u001b[0m\n\u001b[1;32m     69\u001b[0m     \u001b[0mkwargs\u001b[0m\u001b[0;34m.\u001b[0m\u001b[0msetdefault\u001b[0m\u001b[0;34m(\u001b[0m\u001b[0;34m'allow_redirects'\u001b[0m\u001b[0;34m,\u001b[0m \u001b[0mTrue\u001b[0m\u001b[0;34m)\u001b[0m\u001b[0;34m\u001b[0m\u001b[0m\n\u001b[0;32m---> 70\u001b[0;31m     \u001b[0;32mreturn\u001b[0m \u001b[0mrequest\u001b[0m\u001b[0;34m(\u001b[0m\u001b[0;34m'get'\u001b[0m\u001b[0;34m,\u001b[0m \u001b[0murl\u001b[0m\u001b[0;34m,\u001b[0m \u001b[0mparams\u001b[0m\u001b[0;34m=\u001b[0m\u001b[0mparams\u001b[0m\u001b[0;34m,\u001b[0m \u001b[0;34m**\u001b[0m\u001b[0mkwargs\u001b[0m\u001b[0;34m)\u001b[0m\u001b[0;34m\u001b[0m\u001b[0m\n\u001b[0m\u001b[1;32m     71\u001b[0m \u001b[0;34m\u001b[0m\u001b[0m\n\u001b[1;32m     72\u001b[0m \u001b[0;34m\u001b[0m\u001b[0m\n",
      "\u001b[0;32m/Users/suyashchopra/anaconda/lib/python2.7/site-packages/requests/api.pyc\u001b[0m in \u001b[0;36mrequest\u001b[0;34m(method, url, **kwargs)\u001b[0m\n\u001b[1;32m     54\u001b[0m     \u001b[0;31m# cases, and look like a memory leak in others.\u001b[0m\u001b[0;34m\u001b[0m\u001b[0;34m\u001b[0m\u001b[0m\n\u001b[1;32m     55\u001b[0m     \u001b[0;32mwith\u001b[0m \u001b[0msessions\u001b[0m\u001b[0;34m.\u001b[0m\u001b[0mSession\u001b[0m\u001b[0;34m(\u001b[0m\u001b[0;34m)\u001b[0m \u001b[0;32mas\u001b[0m \u001b[0msession\u001b[0m\u001b[0;34m:\u001b[0m\u001b[0;34m\u001b[0m\u001b[0m\n\u001b[0;32m---> 56\u001b[0;31m         \u001b[0;32mreturn\u001b[0m \u001b[0msession\u001b[0m\u001b[0;34m.\u001b[0m\u001b[0mrequest\u001b[0m\u001b[0;34m(\u001b[0m\u001b[0mmethod\u001b[0m\u001b[0;34m=\u001b[0m\u001b[0mmethod\u001b[0m\u001b[0;34m,\u001b[0m \u001b[0murl\u001b[0m\u001b[0;34m=\u001b[0m\u001b[0murl\u001b[0m\u001b[0;34m,\u001b[0m \u001b[0;34m**\u001b[0m\u001b[0mkwargs\u001b[0m\u001b[0;34m)\u001b[0m\u001b[0;34m\u001b[0m\u001b[0m\n\u001b[0m\u001b[1;32m     57\u001b[0m \u001b[0;34m\u001b[0m\u001b[0m\n\u001b[1;32m     58\u001b[0m \u001b[0;34m\u001b[0m\u001b[0m\n",
      "\u001b[0;32m/Users/suyashchopra/anaconda/lib/python2.7/site-packages/requests/sessions.pyc\u001b[0m in \u001b[0;36mrequest\u001b[0;34m(self, method, url, params, data, headers, cookies, files, auth, timeout, allow_redirects, proxies, hooks, stream, verify, cert, json)\u001b[0m\n\u001b[1;32m    473\u001b[0m         }\n\u001b[1;32m    474\u001b[0m         \u001b[0msend_kwargs\u001b[0m\u001b[0;34m.\u001b[0m\u001b[0mupdate\u001b[0m\u001b[0;34m(\u001b[0m\u001b[0msettings\u001b[0m\u001b[0;34m)\u001b[0m\u001b[0;34m\u001b[0m\u001b[0m\n\u001b[0;32m--> 475\u001b[0;31m         \u001b[0mresp\u001b[0m \u001b[0;34m=\u001b[0m \u001b[0mself\u001b[0m\u001b[0;34m.\u001b[0m\u001b[0msend\u001b[0m\u001b[0;34m(\u001b[0m\u001b[0mprep\u001b[0m\u001b[0;34m,\u001b[0m \u001b[0;34m**\u001b[0m\u001b[0msend_kwargs\u001b[0m\u001b[0;34m)\u001b[0m\u001b[0;34m\u001b[0m\u001b[0m\n\u001b[0m\u001b[1;32m    476\u001b[0m \u001b[0;34m\u001b[0m\u001b[0m\n\u001b[1;32m    477\u001b[0m         \u001b[0;32mreturn\u001b[0m \u001b[0mresp\u001b[0m\u001b[0;34m\u001b[0m\u001b[0m\n",
      "\u001b[0;32m/Users/suyashchopra/anaconda/lib/python2.7/site-packages/requests/sessions.pyc\u001b[0m in \u001b[0;36msend\u001b[0;34m(self, request, **kwargs)\u001b[0m\n\u001b[1;32m    594\u001b[0m \u001b[0;34m\u001b[0m\u001b[0m\n\u001b[1;32m    595\u001b[0m         \u001b[0;31m# Send the request\u001b[0m\u001b[0;34m\u001b[0m\u001b[0;34m\u001b[0m\u001b[0m\n\u001b[0;32m--> 596\u001b[0;31m         \u001b[0mr\u001b[0m \u001b[0;34m=\u001b[0m \u001b[0madapter\u001b[0m\u001b[0;34m.\u001b[0m\u001b[0msend\u001b[0m\u001b[0;34m(\u001b[0m\u001b[0mrequest\u001b[0m\u001b[0;34m,\u001b[0m \u001b[0;34m**\u001b[0m\u001b[0mkwargs\u001b[0m\u001b[0;34m)\u001b[0m\u001b[0;34m\u001b[0m\u001b[0m\n\u001b[0m\u001b[1;32m    597\u001b[0m \u001b[0;34m\u001b[0m\u001b[0m\n\u001b[1;32m    598\u001b[0m         \u001b[0;31m# Total elapsed time of the request (approximately)\u001b[0m\u001b[0;34m\u001b[0m\u001b[0;34m\u001b[0m\u001b[0m\n",
      "\u001b[0;32m/Users/suyashchopra/anaconda/lib/python2.7/site-packages/requests/adapters.pyc\u001b[0m in \u001b[0;36msend\u001b[0;34m(self, request, stream, timeout, verify, cert, proxies)\u001b[0m\n\u001b[1;32m    421\u001b[0m                     \u001b[0mdecode_content\u001b[0m\u001b[0;34m=\u001b[0m\u001b[0mFalse\u001b[0m\u001b[0;34m,\u001b[0m\u001b[0;34m\u001b[0m\u001b[0m\n\u001b[1;32m    422\u001b[0m                     \u001b[0mretries\u001b[0m\u001b[0;34m=\u001b[0m\u001b[0mself\u001b[0m\u001b[0;34m.\u001b[0m\u001b[0mmax_retries\u001b[0m\u001b[0;34m,\u001b[0m\u001b[0;34m\u001b[0m\u001b[0m\n\u001b[0;32m--> 423\u001b[0;31m                     \u001b[0mtimeout\u001b[0m\u001b[0;34m=\u001b[0m\u001b[0mtimeout\u001b[0m\u001b[0;34m\u001b[0m\u001b[0m\n\u001b[0m\u001b[1;32m    424\u001b[0m                 )\n\u001b[1;32m    425\u001b[0m \u001b[0;34m\u001b[0m\u001b[0m\n",
      "\u001b[0;32m/Users/suyashchopra/anaconda/lib/python2.7/site-packages/requests/packages/urllib3/connectionpool.pyc\u001b[0m in \u001b[0;36murlopen\u001b[0;34m(self, method, url, body, headers, retries, redirect, assert_same_host, timeout, pool_timeout, release_conn, chunked, **response_kw)\u001b[0m\n\u001b[1;32m    593\u001b[0m                                                   \u001b[0mtimeout\u001b[0m\u001b[0;34m=\u001b[0m\u001b[0mtimeout_obj\u001b[0m\u001b[0;34m,\u001b[0m\u001b[0;34m\u001b[0m\u001b[0m\n\u001b[1;32m    594\u001b[0m                                                   \u001b[0mbody\u001b[0m\u001b[0;34m=\u001b[0m\u001b[0mbody\u001b[0m\u001b[0;34m,\u001b[0m \u001b[0mheaders\u001b[0m\u001b[0;34m=\u001b[0m\u001b[0mheaders\u001b[0m\u001b[0;34m,\u001b[0m\u001b[0;34m\u001b[0m\u001b[0m\n\u001b[0;32m--> 595\u001b[0;31m                                                   chunked=chunked)\n\u001b[0m\u001b[1;32m    596\u001b[0m \u001b[0;34m\u001b[0m\u001b[0m\n\u001b[1;32m    597\u001b[0m             \u001b[0;31m# If we're going to release the connection in ``finally:``, then\u001b[0m\u001b[0;34m\u001b[0m\u001b[0;34m\u001b[0m\u001b[0m\n",
      "\u001b[0;32m/Users/suyashchopra/anaconda/lib/python2.7/site-packages/requests/packages/urllib3/connectionpool.pyc\u001b[0m in \u001b[0;36m_make_request\u001b[0;34m(self, conn, method, url, timeout, chunked, **httplib_request_kw)\u001b[0m\n\u001b[1;32m    384\u001b[0m         \u001b[0;32mtry\u001b[0m\u001b[0;34m:\u001b[0m\u001b[0;34m\u001b[0m\u001b[0m\n\u001b[1;32m    385\u001b[0m             \u001b[0;32mtry\u001b[0m\u001b[0;34m:\u001b[0m  \u001b[0;31m# Python 2.7, use buffering of HTTP responses\u001b[0m\u001b[0;34m\u001b[0m\u001b[0m\n\u001b[0;32m--> 386\u001b[0;31m                 \u001b[0mhttplib_response\u001b[0m \u001b[0;34m=\u001b[0m \u001b[0mconn\u001b[0m\u001b[0;34m.\u001b[0m\u001b[0mgetresponse\u001b[0m\u001b[0;34m(\u001b[0m\u001b[0mbuffering\u001b[0m\u001b[0;34m=\u001b[0m\u001b[0mTrue\u001b[0m\u001b[0;34m)\u001b[0m\u001b[0;34m\u001b[0m\u001b[0m\n\u001b[0m\u001b[1;32m    387\u001b[0m             \u001b[0;32mexcept\u001b[0m \u001b[0mTypeError\u001b[0m\u001b[0;34m:\u001b[0m  \u001b[0;31m# Python 2.6 and older, Python 3\u001b[0m\u001b[0;34m\u001b[0m\u001b[0m\n\u001b[1;32m    388\u001b[0m                 \u001b[0;32mtry\u001b[0m\u001b[0;34m:\u001b[0m\u001b[0;34m\u001b[0m\u001b[0m\n",
      "\u001b[0;32m/Users/suyashchopra/anaconda/lib/python2.7/httplib.pyc\u001b[0m in \u001b[0;36mgetresponse\u001b[0;34m(self, buffering)\u001b[0m\n\u001b[1;32m   1134\u001b[0m \u001b[0;34m\u001b[0m\u001b[0m\n\u001b[1;32m   1135\u001b[0m         \u001b[0;32mtry\u001b[0m\u001b[0;34m:\u001b[0m\u001b[0;34m\u001b[0m\u001b[0m\n\u001b[0;32m-> 1136\u001b[0;31m             \u001b[0mresponse\u001b[0m\u001b[0;34m.\u001b[0m\u001b[0mbegin\u001b[0m\u001b[0;34m(\u001b[0m\u001b[0;34m)\u001b[0m\u001b[0;34m\u001b[0m\u001b[0m\n\u001b[0m\u001b[1;32m   1137\u001b[0m             \u001b[0;32massert\u001b[0m \u001b[0mresponse\u001b[0m\u001b[0;34m.\u001b[0m\u001b[0mwill_close\u001b[0m \u001b[0;34m!=\u001b[0m \u001b[0m_UNKNOWN\u001b[0m\u001b[0;34m\u001b[0m\u001b[0m\n\u001b[1;32m   1138\u001b[0m             \u001b[0mself\u001b[0m\u001b[0;34m.\u001b[0m\u001b[0m__state\u001b[0m \u001b[0;34m=\u001b[0m \u001b[0m_CS_IDLE\u001b[0m\u001b[0;34m\u001b[0m\u001b[0m\n",
      "\u001b[0;32m/Users/suyashchopra/anaconda/lib/python2.7/httplib.pyc\u001b[0m in \u001b[0;36mbegin\u001b[0;34m(self)\u001b[0m\n\u001b[1;32m    451\u001b[0m         \u001b[0;31m# read until we get a non-100 response\u001b[0m\u001b[0;34m\u001b[0m\u001b[0;34m\u001b[0m\u001b[0m\n\u001b[1;32m    452\u001b[0m         \u001b[0;32mwhile\u001b[0m \u001b[0mTrue\u001b[0m\u001b[0;34m:\u001b[0m\u001b[0;34m\u001b[0m\u001b[0m\n\u001b[0;32m--> 453\u001b[0;31m             \u001b[0mversion\u001b[0m\u001b[0;34m,\u001b[0m \u001b[0mstatus\u001b[0m\u001b[0;34m,\u001b[0m \u001b[0mreason\u001b[0m \u001b[0;34m=\u001b[0m \u001b[0mself\u001b[0m\u001b[0;34m.\u001b[0m\u001b[0m_read_status\u001b[0m\u001b[0;34m(\u001b[0m\u001b[0;34m)\u001b[0m\u001b[0;34m\u001b[0m\u001b[0m\n\u001b[0m\u001b[1;32m    454\u001b[0m             \u001b[0;32mif\u001b[0m \u001b[0mstatus\u001b[0m \u001b[0;34m!=\u001b[0m \u001b[0mCONTINUE\u001b[0m\u001b[0;34m:\u001b[0m\u001b[0;34m\u001b[0m\u001b[0m\n\u001b[1;32m    455\u001b[0m                 \u001b[0;32mbreak\u001b[0m\u001b[0;34m\u001b[0m\u001b[0m\n",
      "\u001b[0;32m/Users/suyashchopra/anaconda/lib/python2.7/httplib.pyc\u001b[0m in \u001b[0;36m_read_status\u001b[0;34m(self)\u001b[0m\n\u001b[1;32m    407\u001b[0m     \u001b[0;32mdef\u001b[0m \u001b[0m_read_status\u001b[0m\u001b[0;34m(\u001b[0m\u001b[0mself\u001b[0m\u001b[0;34m)\u001b[0m\u001b[0;34m:\u001b[0m\u001b[0;34m\u001b[0m\u001b[0m\n\u001b[1;32m    408\u001b[0m         \u001b[0;31m# Initialize with Simple-Response defaults\u001b[0m\u001b[0;34m\u001b[0m\u001b[0;34m\u001b[0m\u001b[0m\n\u001b[0;32m--> 409\u001b[0;31m         \u001b[0mline\u001b[0m \u001b[0;34m=\u001b[0m \u001b[0mself\u001b[0m\u001b[0;34m.\u001b[0m\u001b[0mfp\u001b[0m\u001b[0;34m.\u001b[0m\u001b[0mreadline\u001b[0m\u001b[0;34m(\u001b[0m\u001b[0m_MAXLINE\u001b[0m \u001b[0;34m+\u001b[0m \u001b[0;36m1\u001b[0m\u001b[0;34m)\u001b[0m\u001b[0;34m\u001b[0m\u001b[0m\n\u001b[0m\u001b[1;32m    410\u001b[0m         \u001b[0;32mif\u001b[0m \u001b[0mlen\u001b[0m\u001b[0;34m(\u001b[0m\u001b[0mline\u001b[0m\u001b[0;34m)\u001b[0m \u001b[0;34m>\u001b[0m \u001b[0m_MAXLINE\u001b[0m\u001b[0;34m:\u001b[0m\u001b[0;34m\u001b[0m\u001b[0m\n\u001b[1;32m    411\u001b[0m             \u001b[0;32mraise\u001b[0m \u001b[0mLineTooLong\u001b[0m\u001b[0;34m(\u001b[0m\u001b[0;34m\"header line\"\u001b[0m\u001b[0;34m)\u001b[0m\u001b[0;34m\u001b[0m\u001b[0m\n",
      "\u001b[0;32m/Users/suyashchopra/anaconda/lib/python2.7/socket.pyc\u001b[0m in \u001b[0;36mreadline\u001b[0;34m(self, size)\u001b[0m\n\u001b[1;32m    478\u001b[0m             \u001b[0;32mwhile\u001b[0m \u001b[0mTrue\u001b[0m\u001b[0;34m:\u001b[0m\u001b[0;34m\u001b[0m\u001b[0m\n\u001b[1;32m    479\u001b[0m                 \u001b[0;32mtry\u001b[0m\u001b[0;34m:\u001b[0m\u001b[0;34m\u001b[0m\u001b[0m\n\u001b[0;32m--> 480\u001b[0;31m                     \u001b[0mdata\u001b[0m \u001b[0;34m=\u001b[0m \u001b[0mself\u001b[0m\u001b[0;34m.\u001b[0m\u001b[0m_sock\u001b[0m\u001b[0;34m.\u001b[0m\u001b[0mrecv\u001b[0m\u001b[0;34m(\u001b[0m\u001b[0mself\u001b[0m\u001b[0;34m.\u001b[0m\u001b[0m_rbufsize\u001b[0m\u001b[0;34m)\u001b[0m\u001b[0;34m\u001b[0m\u001b[0m\n\u001b[0m\u001b[1;32m    481\u001b[0m                 \u001b[0;32mexcept\u001b[0m \u001b[0merror\u001b[0m\u001b[0;34m,\u001b[0m \u001b[0me\u001b[0m\u001b[0;34m:\u001b[0m\u001b[0;34m\u001b[0m\u001b[0m\n\u001b[1;32m    482\u001b[0m                     \u001b[0;32mif\u001b[0m \u001b[0me\u001b[0m\u001b[0;34m.\u001b[0m\u001b[0margs\u001b[0m\u001b[0;34m[\u001b[0m\u001b[0;36m0\u001b[0m\u001b[0;34m]\u001b[0m \u001b[0;34m==\u001b[0m \u001b[0mEINTR\u001b[0m\u001b[0;34m:\u001b[0m\u001b[0;34m\u001b[0m\u001b[0m\n",
      "\u001b[0;31mKeyboardInterrupt\u001b[0m: "
     ]
    }
   ],
   "source": [
    "males_dict={'Males':[]}\n",
    "for i in title_id:\n",
    "    males(i)\n",
    "    for a in males(i):\n",
    "        males_dict['Males'].append(a)\n",
    "    print males_dict"
   ]
  },
  {
   "cell_type": "code",
   "execution_count": 72,
   "metadata": {
    "collapsed": true
   },
   "outputs": [],
   "source": [
    "def average_males(name):\n",
    "    number=[]\n",
    "    url_1='http://www.imdb.com/title/'+name+'/ratings'\n",
    "    rating_txt=BeautifulSoup(requests.get(url_1).text)\n",
    "    secondtable = rating_txt.findAll('table')[1]\n",
    "    for i in secondtable.find_all('td')[5]:\n",
    "        number.append(i.string)\n",
    "        number= filter(None, number)\n",
    "        if 'Votes' in number: \n",
    "            number.remove('Votes')   \n",
    "        if 'Average' in number: \n",
    "            number.remove('Average') \n",
    "        number = filter(lambda x: x > 0, number)\n",
    "    return number"
   ]
  },
  {
   "cell_type": "code",
   "execution_count": 74,
   "metadata": {
    "collapsed": true
   },
   "outputs": [],
   "source": [
    "average_males_dict={'Average_Males':[]}\n",
    "for i in title_id:\n",
    "    average_males(i)\n",
    "    for a in average_males(i):\n",
    "        average_males_dict['Average_Males'].append(a)"
   ]
  },
  {
   "cell_type": "code",
   "execution_count": 18,
   "metadata": {
    "collapsed": true
   },
   "outputs": [],
   "source": [
    "def female(name):\n",
    "    number=[]\n",
    "    url_1='http://www.imdb.com/title/'+name+'/ratings'\n",
    "    rating_txt=BeautifulSoup(requests.get(url_1).text)\n",
    "    secondtable = rating_txt.findAll('table')[1]\n",
    "    for i in secondtable.find_all('td')[7]:\n",
    "        number.append(i.string)\n",
    "        number= filter(None, number)\n",
    "        if 'Votes' in number: \n",
    "            number.remove('Votes')   \n",
    "        if 'Average' in number: \n",
    "            number.remove('Average') \n",
    "        number = filter(lambda x: x > 0, number)\n",
    "    return number"
   ]
  },
  {
   "cell_type": "code",
   "execution_count": 19,
   "metadata": {
    "collapsed": true
   },
   "outputs": [],
   "source": [
    "female_dict={'Female':[]}\n",
    "for i in title_id:\n",
    "    female(i)\n",
    "    for a in female(i):\n",
    "        female_dict['Female'].append(a)"
   ]
  },
  {
   "cell_type": "code",
   "execution_count": 79,
   "metadata": {
    "collapsed": true
   },
   "outputs": [],
   "source": [
    "def average_female(name):\n",
    "    number=[]\n",
    "    url_1='http://www.imdb.com/title/'+name+'/ratings'\n",
    "    rating_txt=BeautifulSoup(requests.get(url_1).text)\n",
    "    secondtable = rating_txt.findAll('table')[1]\n",
    "    for i in secondtable.find_all('td')[8]:\n",
    "        number.append(i.string)\n",
    "        number= filter(None, number)\n",
    "        if 'Votes' in number: \n",
    "            number.remove('Votes')   \n",
    "        if 'Average' in number: \n",
    "            number.remove('Average') \n",
    "        number = filter(lambda x: x > 0, number)\n",
    "    return number"
   ]
  },
  {
   "cell_type": "code",
   "execution_count": 81,
   "metadata": {
    "collapsed": true
   },
   "outputs": [],
   "source": [
    "average_females_dict={'Average_Female':[]}\n",
    "for i in title_id:\n",
    "    average_female(i)\n",
    "    for a in average_female(i):\n",
    "        average_females_dict['Average_Female'].append(a)"
   ]
  },
  {
   "cell_type": "code",
   "execution_count": 22,
   "metadata": {
    "collapsed": true
   },
   "outputs": [],
   "source": [
    "def aged_under_18(name):\n",
    "    number=[]\n",
    "    url_1='http://www.imdb.com/title/'+name+'/ratings'\n",
    "    rating_txt=BeautifulSoup(requests.get(url_1).text)\n",
    "    secondtable = rating_txt.findAll('table')[1]\n",
    "    for i in secondtable.find_all('td')[10]:\n",
    "        number.append(i.string)\n",
    "        number= filter(None, number)\n",
    "        if 'Votes' in number: \n",
    "            number.remove('Votes')   \n",
    "        if 'Average' in number: \n",
    "            number.remove('Average') \n",
    "        number = filter(lambda x: x >= 0, number)\n",
    "    return number"
   ]
  },
  {
   "cell_type": "code",
   "execution_count": 23,
   "metadata": {
    "collapsed": true
   },
   "outputs": [],
   "source": [
    "aged_under_18_dict={'Aged under 18':[]}\n",
    "for i in title_id:\n",
    "    aged_under_18(i)\n",
    "    for a in aged_under_18(i):\n",
    "        aged_under_18_dict['Aged under 18'].append(a)"
   ]
  },
  {
   "cell_type": "code",
   "execution_count": 82,
   "metadata": {
    "collapsed": true
   },
   "outputs": [],
   "source": [
    "def average_aged_under_18(name):\n",
    "    number=[]\n",
    "    url_1='http://www.imdb.com/title/'+name+'/ratings'\n",
    "    rating_txt=BeautifulSoup(requests.get(url_1).text)\n",
    "    secondtable = rating_txt.findAll('table')[1]\n",
    "    for i in secondtable.find_all('td')[11]:\n",
    "        number.append(i.string)\n",
    "        number= filter(None, number)\n",
    "        if 'Votes' in number: \n",
    "            number.remove('Votes')   \n",
    "        if 'Average' in number: \n",
    "            number.remove('Average') \n",
    "        number = filter(lambda x: x > 0, number)\n",
    "    return number"
   ]
  },
  {
   "cell_type": "code",
   "execution_count": 84,
   "metadata": {
    "collapsed": true
   },
   "outputs": [],
   "source": [
    "average_aged_under_18_dict={'Average_Aged_Under_18':[]}\n",
    "for i in title_id:\n",
    "    average_aged_under_18(i)\n",
    "    for a in average_aged_under_18(i):\n",
    "        average_aged_under_18_dict['Average_Aged_Under_18'].append(a)"
   ]
  },
  {
   "cell_type": "code",
   "execution_count": 28,
   "metadata": {
    "collapsed": true
   },
   "outputs": [],
   "source": [
    "def males_under_18(name):\n",
    "    number=[]\n",
    "    url_1='http://www.imdb.com/title/'+name+'/ratings'\n",
    "    rating_txt=BeautifulSoup(requests.get(url_1).text)\n",
    "    secondtable = rating_txt.findAll('table')[1]\n",
    "    for i in secondtable.find_all('td')[13]:\n",
    "        number.append(i.string)\n",
    "        number= filter(None, number)\n",
    "        if 'Votes' in number: \n",
    "            number.remove('Votes')   \n",
    "        if 'Average' in number: \n",
    "            number.remove('Average') \n",
    "        number = filter(lambda x: x >= 0, number)\n",
    "    return number"
   ]
  },
  {
   "cell_type": "code",
   "execution_count": 29,
   "metadata": {
    "collapsed": true
   },
   "outputs": [],
   "source": [
    "males_under_18_dict={'Males under 18':[]}\n",
    "for i in title_id:\n",
    "    males_under_18(i)\n",
    "    for a in males_under_18(i):\n",
    "        males_under_18_dict['Males under 18'].append(a)"
   ]
  },
  {
   "cell_type": "code",
   "execution_count": 85,
   "metadata": {
    "collapsed": true
   },
   "outputs": [],
   "source": [
    "def average_males_under_18(name):\n",
    "    number=[]\n",
    "    url_1='http://www.imdb.com/title/'+name+'/ratings'\n",
    "    rating_txt=BeautifulSoup(requests.get(url_1).text)\n",
    "    secondtable = rating_txt.findAll('table')[1]\n",
    "    for i in secondtable.find_all('td')[14]:\n",
    "        number.append(i.string)\n",
    "        number= filter(None, number)\n",
    "        if 'Votes' in number: \n",
    "            number.remove('Votes')   \n",
    "        if 'Average' in number: \n",
    "            number.remove('Average') \n",
    "        number = filter(lambda x: x > 0, number)\n",
    "    return number"
   ]
  },
  {
   "cell_type": "code",
   "execution_count": 88,
   "metadata": {
    "collapsed": true
   },
   "outputs": [],
   "source": [
    "average_males_under_18_dict={'Average_Males_Under_18':[]}\n",
    "for i in title_id:\n",
    "    average_males_under_18(i)\n",
    "    for a in average_males_under_18(i):\n",
    "        average_males_under_18_dict['Average_Males_Under_18'].append(a)"
   ]
  },
  {
   "cell_type": "code",
   "execution_count": 30,
   "metadata": {
    "collapsed": true
   },
   "outputs": [],
   "source": [
    "def females_under_18(name):\n",
    "    number=[]\n",
    "    url_1='http://www.imdb.com/title/'+name+'/ratings'\n",
    "    rating_txt=BeautifulSoup(requests.get(url_1).text)\n",
    "    secondtable = rating_txt.findAll('table')[1]\n",
    "    for i in secondtable.find_all('td')[16]:\n",
    "        number.append(i.string)\n",
    "        number= filter(None, number)\n",
    "        if 'Votes' in number: \n",
    "            number.remove('Votes')   \n",
    "        if 'Average' in number: \n",
    "            number.remove('Average') \n",
    "        number = filter(lambda x: x >= 0, number)\n",
    "    return number"
   ]
  },
  {
   "cell_type": "code",
   "execution_count": 31,
   "metadata": {
    "collapsed": true
   },
   "outputs": [],
   "source": [
    "females_under_18_dict={'Females under 18':[]}\n",
    "for i in title_id:\n",
    "    females_under_18(i)\n",
    "    for a in females_under_18(i):\n",
    "        females_under_18_dict['Females under 18'].append(a)"
   ]
  },
  {
   "cell_type": "code",
   "execution_count": 89,
   "metadata": {
    "collapsed": true
   },
   "outputs": [],
   "source": [
    "def average_females_under_18(name):\n",
    "    number=[]\n",
    "    url_1='http://www.imdb.com/title/'+name+'/ratings'\n",
    "    rating_txt=BeautifulSoup(requests.get(url_1).text)\n",
    "    secondtable = rating_txt.findAll('table')[1]\n",
    "    for i in secondtable.find_all('td')[17]:\n",
    "        number.append(i.string)\n",
    "        number= filter(None, number)\n",
    "        if 'Votes' in number: \n",
    "            number.remove('Votes')   \n",
    "        if 'Average' in number: \n",
    "            number.remove('Average') \n",
    "        number = filter(lambda x: x > 0, number)\n",
    "    return number"
   ]
  },
  {
   "cell_type": "code",
   "execution_count": 90,
   "metadata": {
    "collapsed": true
   },
   "outputs": [],
   "source": [
    "average_females_under_18_dict={'Average_Female_Under_18':[]}\n",
    "for i in title_id:\n",
    "    average_females_under_18(i)\n",
    "    for a in average_females_under_18(i):\n",
    "        average_females_under_18_dict['Average_Female_Under_18'].append(a)"
   ]
  },
  {
   "cell_type": "code",
   "execution_count": 32,
   "metadata": {
    "collapsed": true
   },
   "outputs": [],
   "source": [
    "def aged_18_29(name):\n",
    "    number=[]\n",
    "    url_1='http://www.imdb.com/title/'+name+'/ratings'\n",
    "    rating_txt=BeautifulSoup(requests.get(url_1).text)\n",
    "    secondtable = rating_txt.findAll('table')[1]\n",
    "    for i in secondtable.find_all('td')[19]:\n",
    "        number.append(i.string)\n",
    "        number= filter(None, number)\n",
    "        if 'Votes' in number: \n",
    "            number.remove('Votes')   \n",
    "        if 'Average' in number: \n",
    "            number.remove('Average') \n",
    "        number = filter(lambda x: x > 0, number)\n",
    "    return number"
   ]
  },
  {
   "cell_type": "code",
   "execution_count": 33,
   "metadata": {
    "collapsed": true
   },
   "outputs": [],
   "source": [
    "aged_18_29_dict={'Aged 18-29':[]}\n",
    "for i in title_id:\n",
    "    aged_18_29(i)\n",
    "    for a in aged_18_29(i):\n",
    "        aged_18_29_dict['Aged 18-29'].append(a)"
   ]
  },
  {
   "cell_type": "code",
   "execution_count": 91,
   "metadata": {
    "collapsed": true
   },
   "outputs": [],
   "source": [
    "def average_aged_18_29(name):\n",
    "    number=[]\n",
    "    url_1='http://www.imdb.com/title/'+name+'/ratings'\n",
    "    rating_txt=BeautifulSoup(requests.get(url_1).text)\n",
    "    secondtable = rating_txt.findAll('table')[1]\n",
    "    for i in secondtable.find_all('td')[20]:\n",
    "        number.append(i.string)\n",
    "        number= filter(None, number)\n",
    "        if 'Votes' in number: \n",
    "            number.remove('Votes')   \n",
    "        if 'Average' in number: \n",
    "            number.remove('Average') \n",
    "        number = filter(lambda x: x > 0, number)\n",
    "    return number"
   ]
  },
  {
   "cell_type": "code",
   "execution_count": 92,
   "metadata": {
    "collapsed": true
   },
   "outputs": [],
   "source": [
    "average_aged_18_29_dict={'Average_Aged_18-29':[]}\n",
    "for i in title_id:\n",
    "    average_aged_18_29(i)\n",
    "    for a in average_aged_18_29(i):\n",
    "        average_aged_18_29_dict['Average_Aged_18-29'].append(a)"
   ]
  },
  {
   "cell_type": "code",
   "execution_count": 34,
   "metadata": {
    "collapsed": true
   },
   "outputs": [],
   "source": [
    "def males_aged_18_29(name):\n",
    "    number=[]\n",
    "    url_1='http://www.imdb.com/title/'+name+'/ratings'\n",
    "    rating_txt=BeautifulSoup(requests.get(url_1).text)\n",
    "    secondtable = rating_txt.findAll('table')[1]\n",
    "    for i in secondtable.find_all('td')[22]:\n",
    "        number.append(i.string)\n",
    "        number= filter(None, number)\n",
    "        if 'Votes' in number: \n",
    "            number.remove('Votes')   \n",
    "        if 'Average' in number: \n",
    "            number.remove('Average') \n",
    "        number = filter(lambda x: x > 0, number)\n",
    "    return number"
   ]
  },
  {
   "cell_type": "code",
   "execution_count": 35,
   "metadata": {
    "collapsed": true
   },
   "outputs": [],
   "source": [
    "males_aged_18_29_dict={'Males Aged 18-29':[]}\n",
    "for i in title_id:\n",
    "    males_aged_18_29(i)\n",
    "    for a in males_aged_18_29(i):\n",
    "        males_aged_18_29_dict['Males Aged 18-29'].append(a)"
   ]
  },
  {
   "cell_type": "code",
   "execution_count": 93,
   "metadata": {
    "collapsed": true
   },
   "outputs": [],
   "source": [
    "def average_males_aged_18_29(name):\n",
    "    number=[]\n",
    "    url_1='http://www.imdb.com/title/'+name+'/ratings'\n",
    "    rating_txt=BeautifulSoup(requests.get(url_1).text)\n",
    "    secondtable = rating_txt.findAll('table')[1]\n",
    "    for i in secondtable.find_all('td')[23]:\n",
    "        number.append(i.string)\n",
    "        number= filter(None, number)\n",
    "        if 'Votes' in number: \n",
    "            number.remove('Votes')   \n",
    "        if 'Average' in number: \n",
    "            number.remove('Average') \n",
    "        number = filter(lambda x: x > 0, number)\n",
    "    return number"
   ]
  },
  {
   "cell_type": "code",
   "execution_count": 97,
   "metadata": {
    "collapsed": true
   },
   "outputs": [],
   "source": [
    "average_males_aged_18_29_dict={'Average_Male_Aged_18-29':[]}\n",
    "for i in title_id:\n",
    "    average_males_aged_18_29(i)\n",
    "    for a in average_males_aged_18_29(i):\n",
    "        average_males_aged_18_29_dict['Average_Male_Aged_18-29'].append(a)"
   ]
  },
  {
   "cell_type": "code",
   "execution_count": 36,
   "metadata": {
    "collapsed": true
   },
   "outputs": [],
   "source": [
    "def females_aged_18_29(name):\n",
    "    number=[]\n",
    "    url_1='http://www.imdb.com/title/'+name+'/ratings'\n",
    "    rating_txt=BeautifulSoup(requests.get(url_1).text)\n",
    "    secondtable = rating_txt.findAll('table')[1]\n",
    "    for i in secondtable.find_all('td')[25]:\n",
    "        number.append(i.string)\n",
    "        number= filter(None, number)\n",
    "        if 'Votes' in number: \n",
    "            number.remove('Votes')   \n",
    "        if 'Average' in number: \n",
    "            number.remove('Average') \n",
    "        number = filter(lambda x: x > 0, number)\n",
    "    return number"
   ]
  },
  {
   "cell_type": "code",
   "execution_count": 37,
   "metadata": {
    "collapsed": true
   },
   "outputs": [],
   "source": [
    "females_aged_18_29_dict={'Females Aged 18-29':[]}\n",
    "for i in title_id:\n",
    "    females_aged_18_29(i)\n",
    "    for a in females_aged_18_29(i):\n",
    "        females_aged_18_29_dict['Females Aged 18-29'].append(a)"
   ]
  },
  {
   "cell_type": "code",
   "execution_count": 98,
   "metadata": {
    "collapsed": true
   },
   "outputs": [],
   "source": [
    "def average_females_aged_18_29(name):\n",
    "    number=[]\n",
    "    url_1='http://www.imdb.com/title/'+name+'/ratings'\n",
    "    rating_txt=BeautifulSoup(requests.get(url_1).text)\n",
    "    secondtable = rating_txt.findAll('table')[1]\n",
    "    for i in secondtable.find_all('td')[26]:\n",
    "        number.append(i.string)\n",
    "        number= filter(None, number)\n",
    "        if 'Votes' in number: \n",
    "            number.remove('Votes')   \n",
    "        if 'Average' in number: \n",
    "            number.remove('Average') \n",
    "        number = filter(lambda x: x > 0, number)\n",
    "    return number"
   ]
  },
  {
   "cell_type": "code",
   "execution_count": 100,
   "metadata": {
    "collapsed": true
   },
   "outputs": [],
   "source": [
    "average_females_aged_18_29_dict={'Average_Female 18-29':[]}\n",
    "for i in title_id:\n",
    "    average_females_aged_18_29(i)\n",
    "    for a in average_females_aged_18_29(i):\n",
    "        average_females_aged_18_29_dict['Average_Female 18-29'].append(a)"
   ]
  },
  {
   "cell_type": "code",
   "execution_count": 38,
   "metadata": {
    "collapsed": true
   },
   "outputs": [],
   "source": [
    "def aged_30_44(name):\n",
    "    number=[]\n",
    "    url_1='http://www.imdb.com/title/'+name+'/ratings'\n",
    "    rating_txt=BeautifulSoup(requests.get(url_1).text)\n",
    "    secondtable = rating_txt.findAll('table')[1]\n",
    "    for i in secondtable.find_all('td')[28]:\n",
    "        number.append(i.string)\n",
    "        number= filter(None, number)\n",
    "        if 'Votes' in number: \n",
    "            number.remove('Votes')   \n",
    "        if 'Average' in number: \n",
    "            number.remove('Average') \n",
    "        number = filter(lambda x: x > 0, number)\n",
    "    return number"
   ]
  },
  {
   "cell_type": "code",
   "execution_count": 39,
   "metadata": {
    "collapsed": true
   },
   "outputs": [],
   "source": [
    "aged_30_44_dict={'Aged 30-44':[]}\n",
    "for i in title_id:\n",
    "    aged_30_44(i)\n",
    "    for a in aged_30_44(i):\n",
    "        aged_30_44_dict['Aged 30-44'].append(a)"
   ]
  },
  {
   "cell_type": "code",
   "execution_count": 101,
   "metadata": {
    "collapsed": true
   },
   "outputs": [],
   "source": [
    "def average_aged_30_44(name):\n",
    "    number=[]\n",
    "    url_1='http://www.imdb.com/title/'+name+'/ratings'\n",
    "    rating_txt=BeautifulSoup(requests.get(url_1).text)\n",
    "    secondtable = rating_txt.findAll('table')[1]\n",
    "    for i in secondtable.find_all('td')[29]:\n",
    "        number.append(i.string)\n",
    "        number= filter(None, number)\n",
    "        if 'Votes' in number: \n",
    "            number.remove('Votes')   \n",
    "        if 'Average' in number: \n",
    "            number.remove('Average') \n",
    "        number = filter(lambda x: x > 0, number)\n",
    "    return number"
   ]
  },
  {
   "cell_type": "code",
   "execution_count": 102,
   "metadata": {
    "collapsed": true
   },
   "outputs": [],
   "source": [
    "average_aged_30_44_dict={'Average_Aged_30-44':[]}\n",
    "for i in title_id:\n",
    "    average_aged_30_44(i)\n",
    "    for a in average_aged_30_44(i):\n",
    "        average_aged_30_44_dict['Average_Aged_30-44'].append(a)"
   ]
  },
  {
   "cell_type": "code",
   "execution_count": 40,
   "metadata": {
    "collapsed": true
   },
   "outputs": [],
   "source": [
    "def males_aged_30_44(name):\n",
    "    number=[]\n",
    "    url_1='http://www.imdb.com/title/'+name+'/ratings'\n",
    "    rating_txt=BeautifulSoup(requests.get(url_1).text)\n",
    "    secondtable = rating_txt.findAll('table')[1]\n",
    "    for i in secondtable.find_all('td')[31]:\n",
    "        number.append(i.string)\n",
    "        number= filter(None, number)\n",
    "        if 'Votes' in number: \n",
    "            number.remove('Votes')   \n",
    "        if 'Average' in number: \n",
    "            number.remove('Average') \n",
    "        number = filter(lambda x: x > 0, number)\n",
    "    return number"
   ]
  },
  {
   "cell_type": "code",
   "execution_count": 41,
   "metadata": {
    "collapsed": true
   },
   "outputs": [],
   "source": [
    "males_aged_30_44_dict={'Males Aged 30-44':[]}\n",
    "for i in title_id:\n",
    "    males_aged_30_44(i)\n",
    "    for a in males_aged_30_44(i):\n",
    "        males_aged_30_44_dict['Males Aged 30-44'].append(a)"
   ]
  },
  {
   "cell_type": "code",
   "execution_count": 104,
   "metadata": {
    "collapsed": true
   },
   "outputs": [],
   "source": [
    "def average_males_aged_30_44(name):\n",
    "    number=[]\n",
    "    url_1='http://www.imdb.com/title/'+name+'/ratings'\n",
    "    rating_txt=BeautifulSoup(requests.get(url_1).text)\n",
    "    secondtable = rating_txt.findAll('table')[1]\n",
    "    for i in secondtable.find_all('td')[32]:\n",
    "        number.append(i.string)\n",
    "        number= filter(None, number)\n",
    "        if 'Votes' in number: \n",
    "            number.remove('Votes')   \n",
    "        if 'Average' in number: \n",
    "            number.remove('Average') \n",
    "        number = filter(lambda x: x > 0, number)\n",
    "    return number"
   ]
  },
  {
   "cell_type": "code",
   "execution_count": 105,
   "metadata": {
    "collapsed": true
   },
   "outputs": [],
   "source": [
    "average_males_aged_30_44_dict={'Average_Male 30-44':[]}\n",
    "for i in title_id:\n",
    "    average_males_aged_30_44(i)\n",
    "    for a in males_aged_30_44(i):\n",
    "        average_males_aged_30_44_dict['Average_Male 30-44'].append(a)"
   ]
  },
  {
   "cell_type": "code",
   "execution_count": 42,
   "metadata": {
    "collapsed": true
   },
   "outputs": [],
   "source": [
    "def females_aged_40_44(name):\n",
    "    number=[]\n",
    "    url_1='http://www.imdb.com/title/'+name+'/ratings'\n",
    "    rating_txt=BeautifulSoup(requests.get(url_1).text)\n",
    "    secondtable = rating_txt.findAll('table')[1]\n",
    "    for i in secondtable.find_all('td')[34]:\n",
    "        number.append(i.string)\n",
    "        number= filter(None, number)\n",
    "        if 'Votes' in number: \n",
    "            number.remove('Votes')   \n",
    "        if 'Average' in number: \n",
    "            number.remove('Average') \n",
    "        number = filter(lambda x: x > 0, number)\n",
    "    return number"
   ]
  },
  {
   "cell_type": "code",
   "execution_count": 43,
   "metadata": {
    "collapsed": true
   },
   "outputs": [],
   "source": [
    "females_aged_40_44_dict={'Females Aged 30-44':[]}\n",
    "for i in title_id:\n",
    "    females_aged_40_44(i)\n",
    "    for a in females_aged_40_44(i):\n",
    "        females_aged_40_44_dict['Females Aged 30-44'].append(a)"
   ]
  },
  {
   "cell_type": "code",
   "execution_count": 106,
   "metadata": {
    "collapsed": true
   },
   "outputs": [],
   "source": [
    "def average_females_aged_30_44(name):\n",
    "    number=[]\n",
    "    url_1='http://www.imdb.com/title/'+name+'/ratings'\n",
    "    rating_txt=BeautifulSoup(requests.get(url_1).text)\n",
    "    secondtable = rating_txt.findAll('table')[1]\n",
    "    for i in secondtable.find_all('td')[35]:\n",
    "        number.append(i.string)\n",
    "        number= filter(None, number)\n",
    "        if 'Votes' in number: \n",
    "            number.remove('Votes')   \n",
    "        if 'Average' in number: \n",
    "            number.remove('Average') \n",
    "        number = filter(lambda x: x > 0, number)\n",
    "    return number"
   ]
  },
  {
   "cell_type": "code",
   "execution_count": 108,
   "metadata": {
    "collapsed": true
   },
   "outputs": [],
   "source": [
    "average_females_aged_30_44_dict={'Average Female 30-44':[]}\n",
    "for i in title_id:\n",
    "    average_females_aged_30_44(i)\n",
    "    for a in average_females_aged_30_44(i):\n",
    "        average_females_aged_30_44_dict['Average Female 30-44'].append(a)"
   ]
  },
  {
   "cell_type": "code",
   "execution_count": 44,
   "metadata": {
    "collapsed": true
   },
   "outputs": [],
   "source": [
    "def aged_45_plus(name):\n",
    "    number=[]\n",
    "    url_1='http://www.imdb.com/title/'+name+'/ratings'\n",
    "    rating_txt=BeautifulSoup(requests.get(url_1).text)\n",
    "    secondtable = rating_txt.findAll('table')[1]\n",
    "    for i in secondtable.find_all('td')[37]:\n",
    "        number.append(i.string)\n",
    "        number= filter(None, number)\n",
    "        if 'Votes' in number: \n",
    "            number.remove('Votes')   \n",
    "        if 'Average' in number: \n",
    "            number.remove('Average') \n",
    "        number = filter(lambda x: x > 0, number)\n",
    "    return number"
   ]
  },
  {
   "cell_type": "code",
   "execution_count": 45,
   "metadata": {
    "collapsed": true
   },
   "outputs": [],
   "source": [
    "aged_45_plus_dict={'Aged 45+':[]}\n",
    "for i in title_id:\n",
    "    aged_45_plus(i)\n",
    "    for a in aged_45_plus(i):\n",
    "        aged_45_plus_dict['Aged 45+'].append(a)"
   ]
  },
  {
   "cell_type": "code",
   "execution_count": 109,
   "metadata": {
    "collapsed": true
   },
   "outputs": [],
   "source": [
    "def average_aged_45_plus(name):\n",
    "    number=[]\n",
    "    url_1='http://www.imdb.com/title/'+name+'/ratings'\n",
    "    rating_txt=BeautifulSoup(requests.get(url_1).text)\n",
    "    secondtable = rating_txt.findAll('table')[1]\n",
    "    for i in secondtable.find_all('td')[38]:\n",
    "        number.append(i.string)\n",
    "        number= filter(None, number)\n",
    "        if 'Votes' in number: \n",
    "            number.remove('Votes')   \n",
    "        if 'Average' in number: \n",
    "            number.remove('Average') \n",
    "        number = filter(lambda x: x > 0, number)\n",
    "    return number"
   ]
  },
  {
   "cell_type": "code",
   "execution_count": 110,
   "metadata": {
    "collapsed": true
   },
   "outputs": [],
   "source": [
    "average_aged_45_plus_dict={'Average_Aged 45+':[]}\n",
    "for i in title_id:\n",
    "    average_aged_45_plus(i)\n",
    "    for a in average_aged_45_plus(i):\n",
    "        average_aged_45_plus_dict['Average_Aged 45+'].append(a)"
   ]
  },
  {
   "cell_type": "code",
   "execution_count": 46,
   "metadata": {
    "collapsed": true
   },
   "outputs": [],
   "source": [
    "def males_45_plus(name):\n",
    "    number=[]\n",
    "    url_1='http://www.imdb.com/title/'+name+'/ratings'\n",
    "    rating_txt=BeautifulSoup(requests.get(url_1).text)\n",
    "    secondtable = rating_txt.findAll('table')[1]\n",
    "    for i in secondtable.find_all('td')[40]:\n",
    "        number.append(i.string)\n",
    "        number= filter(None, number)\n",
    "        if 'Votes' in number: \n",
    "            number.remove('Votes')   \n",
    "        if 'Average' in number: \n",
    "            number.remove('Average') \n",
    "        number = filter(lambda x: x > 0, number)\n",
    "    return number"
   ]
  },
  {
   "cell_type": "code",
   "execution_count": 47,
   "metadata": {
    "collapsed": true
   },
   "outputs": [],
   "source": [
    "males_45_plus_dict={'Males Aged 45+':[]}\n",
    "for i in title_id:\n",
    "    males_45_plus(i)\n",
    "    for a in males_45_plus(i):\n",
    "        males_45_plus_dict['Males Aged 45+'].append(a)"
   ]
  },
  {
   "cell_type": "code",
   "execution_count": 111,
   "metadata": {
    "collapsed": true
   },
   "outputs": [],
   "source": [
    "def average_males_45_plus(name):\n",
    "    number=[]\n",
    "    url_1='http://www.imdb.com/title/'+name+'/ratings'\n",
    "    rating_txt=BeautifulSoup(requests.get(url_1).text)\n",
    "    secondtable = rating_txt.findAll('table')[1]\n",
    "    for i in secondtable.find_all('td')[41]:\n",
    "        number.append(i.string)\n",
    "        number= filter(None, number)\n",
    "        if 'Votes' in number: \n",
    "            number.remove('Votes')   \n",
    "        if 'Average' in number: \n",
    "            number.remove('Average') \n",
    "        number = filter(lambda x: x > 0, number)\n",
    "    return number"
   ]
  },
  {
   "cell_type": "code",
   "execution_count": 112,
   "metadata": {
    "collapsed": true
   },
   "outputs": [],
   "source": [
    "average_males_45_plus_dict={'Average male 45+':[]}\n",
    "for i in title_id:\n",
    "    average_males_45_plus(i)\n",
    "    for a in average_males_45_plus(i):\n",
    "        average_males_45_plus_dict['Average male 45+'].append(a)"
   ]
  },
  {
   "cell_type": "code",
   "execution_count": 48,
   "metadata": {
    "collapsed": true
   },
   "outputs": [],
   "source": [
    "def females_45_plus(name):\n",
    "    number=[]\n",
    "    url_1='http://www.imdb.com/title/'+name+'/ratings'\n",
    "    rating_txt=BeautifulSoup(requests.get(url_1).text)\n",
    "    secondtable = rating_txt.findAll('table')[1]\n",
    "    for i in secondtable.find_all('td')[43]:\n",
    "        number.append(i.string)\n",
    "        number= filter(None, number)\n",
    "        if 'Votes' in number: \n",
    "            number.remove('Votes')   \n",
    "        if 'Average' in number: \n",
    "            number.remove('Average') \n",
    "        number = filter(lambda x: x > 0, number)\n",
    "    return number"
   ]
  },
  {
   "cell_type": "code",
   "execution_count": 49,
   "metadata": {
    "collapsed": true
   },
   "outputs": [],
   "source": [
    "females_45_plus_dict={'Females Aged 45+':[]}\n",
    "for i in title_id:\n",
    "    females_45_plus(i)\n",
    "    for a in females_45_plus(i):\n",
    "        females_45_plus_dict['Females Aged 45+'].append(a)"
   ]
  },
  {
   "cell_type": "code",
   "execution_count": 119,
   "metadata": {
    "collapsed": true
   },
   "outputs": [],
   "source": [
    "def average_females_45_plus(name):\n",
    "    number=[]\n",
    "    url_1='http://www.imdb.com/title/'+name+'/ratings'\n",
    "    rating_txt=BeautifulSoup(requests.get(url_1).text)\n",
    "    secondtable = rating_txt.findAll('table')[1]\n",
    "    for i in secondtable.find_all('td')[44]:\n",
    "        number.append(i.string)\n",
    "        number= filter(None, number)\n",
    "        if 'Votes' in number: \n",
    "            number.remove('Votes')   \n",
    "        if 'Average' in number: \n",
    "            number.remove('Average') \n",
    "        number = filter(lambda x: x > 0, number)\n",
    "    return number"
   ]
  },
  {
   "cell_type": "code",
   "execution_count": 120,
   "metadata": {
    "collapsed": true
   },
   "outputs": [],
   "source": [
    "average_females_45_plus_dict={'Average_female 45+':[]}\n",
    "for i in title_id:\n",
    "    average_females_45_plus(i)\n",
    "    for a in average_females_45_plus(i):\n",
    "        average_females_45_plus_dict['Average_female 45+'].append(a)"
   ]
  },
  {
   "cell_type": "code",
   "execution_count": 59,
   "metadata": {
    "collapsed": true
   },
   "outputs": [],
   "source": [
    "def imdb_staff(name):\n",
    "    number=[]\n",
    "    url_1='http://www.imdb.com/title/'+name+'/ratings'\n",
    "    rating_txt=BeautifulSoup(requests.get(url_1).text)\n",
    "    secondtable = rating_txt.findAll('table')[1]\n",
    "    for i in secondtable.find_all('td')[46]:\n",
    "        number.append(i.string)\n",
    "        number= filter(None, number)\n",
    "        if 'Votes' in number: \n",
    "            number.remove('Votes')   \n",
    "        if 'Average' in number: \n",
    "            number.remove('Average') \n",
    "        number = filter(lambda x: x > 0, number)\n",
    "    return number"
   ]
  },
  {
   "cell_type": "code",
   "execution_count": 60,
   "metadata": {
    "collapsed": true
   },
   "outputs": [],
   "source": [
    "imdb_staff_dict={'IMDb staff':[]}\n",
    "for i in title_id:\n",
    "    imdb_staff(i)\n",
    "    for a in imdb_staff(i):\n",
    "        imdb_staff_dict['IMDb staff'].append(a)"
   ]
  },
  {
   "cell_type": "code",
   "execution_count": 121,
   "metadata": {
    "collapsed": true
   },
   "outputs": [],
   "source": [
    "def average_imdb_staff(name):\n",
    "    number=[]\n",
    "    url_1='http://www.imdb.com/title/'+name+'/ratings'\n",
    "    rating_txt=BeautifulSoup(requests.get(url_1).text)\n",
    "    secondtable = rating_txt.findAll('table')[1]\n",
    "    for i in secondtable.find_all('td')[47]:\n",
    "        number.append(i.string)\n",
    "        number= filter(None, number)\n",
    "        if 'Votes' in number: \n",
    "            number.remove('Votes')   \n",
    "        if 'Average' in number: \n",
    "            number.remove('Average') \n",
    "        number = filter(lambda x: x > 0, number)\n",
    "    return number"
   ]
  },
  {
   "cell_type": "code",
   "execution_count": 123,
   "metadata": {
    "collapsed": true
   },
   "outputs": [],
   "source": [
    "average_imdb_staff_dict={'Average_Imdb Staff':[]}\n",
    "for i in title_id:\n",
    "    average_imdb_staff(i)\n",
    "    for a in average_imdb_staff(i):\n",
    "        average_imdb_staff_dict['Average_Imdb Staff'].append(a)"
   ]
  },
  {
   "cell_type": "code",
   "execution_count": 63,
   "metadata": {
    "collapsed": true
   },
   "outputs": [],
   "source": [
    "def us_users(name):\n",
    "    number=[]\n",
    "    url_1='http://www.imdb.com/title/'+name+'/ratings'\n",
    "    rating_txt=BeautifulSoup(requests.get(url_1).text)\n",
    "    secondtable = rating_txt.findAll('table')[1]\n",
    "    for i in secondtable.find_all('td')[52]:\n",
    "        number.append(i.string)\n",
    "        number= filter(None, number)\n",
    "        if 'Votes' in number: \n",
    "            number.remove('Votes')   \n",
    "        if 'Average' in number: \n",
    "            number.remove('Average') \n",
    "        number = filter(lambda x: x > 0, number)\n",
    "    return number"
   ]
  },
  {
   "cell_type": "code",
   "execution_count": 64,
   "metadata": {
    "collapsed": true
   },
   "outputs": [],
   "source": [
    "us_users_dict={'US users':[]}\n",
    "for i in title_id:\n",
    "    us_users(i)\n",
    "    for a in us_users(i):\n",
    "        us_users_dict['US users'].append(a)"
   ]
  },
  {
   "cell_type": "code",
   "execution_count": 124,
   "metadata": {
    "collapsed": true
   },
   "outputs": [],
   "source": [
    "def average_us_users(name):\n",
    "    number=[]\n",
    "    url_1='http://www.imdb.com/title/'+name+'/ratings'\n",
    "    rating_txt=BeautifulSoup(requests.get(url_1).text)\n",
    "    secondtable = rating_txt.findAll('table')[1]\n",
    "    for i in secondtable.find_all('td')[53]:\n",
    "        number.append(i.string)\n",
    "        number= filter(None, number)\n",
    "        if 'Votes' in number: \n",
    "            number.remove('Votes')   \n",
    "        if 'Average' in number: \n",
    "            number.remove('Average') \n",
    "        number = filter(lambda x: x > 0, number)\n",
    "    return number"
   ]
  },
  {
   "cell_type": "code",
   "execution_count": 125,
   "metadata": {
    "collapsed": true
   },
   "outputs": [],
   "source": [
    "average_us_users_dict={'Average US User':[]}\n",
    "for i in title_id:\n",
    "    average_us_users(i)\n",
    "    for a in average_us_users(i):\n",
    "        average_us_users_dict['Average US User'].append(a)"
   ]
  },
  {
   "cell_type": "code",
   "execution_count": 69,
   "metadata": {
    "collapsed": true
   },
   "outputs": [],
   "source": [
    "title=pd.DataFrame(title_dict)\n",
    "rating=pd.DataFrame(rating_dict)\n",
    "runtime=pd.DataFrame(runtime_dict)\n",
    "studio=pd.DataFrame(studio_dict)\n",
    "Rating_Males=pd.DataFrame(males_dict)\n",
    "Rating_Females=pd.DataFrame(female_dict)\n",
    "Rating_Aged_under_18=pd.DataFrame(aged_under_18_dict)\n",
    "Rating_Males_under_18=pd.DataFrame(males_under_18_dict)\n",
    "Rating_Females_under_18=pd.DataFrame(females_under_18_dict)\n",
    "Rating_Aged_18_29=pd.DataFrame(aged_18_29_dict)\n",
    "Rating_Males_Aged_18_29=pd.DataFrame(males_aged_18_29_dict)\n",
    "Rating_Females_Aged_18_29=pd.DataFrame(females_aged_18_29_dict)\n",
    "Rating_Aged_30_44=pd.DataFrame(aged_30_44_dict)\n",
    "Rating_Males_Aged_30_44=pd.DataFrame(males_aged_30_44_dict)\n",
    "Rating_Females_Aged_30_44=pd.DataFrame(females_aged_40_44_dict)\n",
    "Rating_Aged_45_plus=pd.DataFrame(aged_45_plus_dict)\n",
    "Rating_Males_Aged_45_plus=pd.DataFrame(males_45_plus_dict)\n",
    "Rating_Females_Aged_45_plus=pd.DataFrame(females_45_plus_dict)\n",
    "Rating_Imdb_staff=pd.DataFrame(imdb_staff_dict)\n",
    "Rating_Us_Users=pd.DataFrame(us_users_dict)\n",
    "frame=[title,rating,runtime,studio,Rating_Males,Rating_Females,Rating_Aged_under_18,Rating_Males_under_18,Rating_Females_under_18,Rating_Aged_18_29,Rating_Males_Aged_18_29,Rating_Females_Aged_18_29,Rating_Aged_30_44,Rating_Males_Aged_30_44,Rating_Females_Aged_30_44,Rating_Aged_45_plus,Rating_Males_Aged_45_plus,Rating_Females_Aged_45_plus,Rating_Imdb_staff,Rating_Us_Users]\n",
    "result=pd.concat(frame,axis=1)"
   ]
  },
  {
   "cell_type": "code",
   "execution_count": 71,
   "metadata": {
    "collapsed": true
   },
   "outputs": [
    {
     "name": "stdout",
     "output_type": "stream",
     "text": [
      "                                Title Rating   RunTime  \\\n",
      "0                      13 Reasons Why    9.0        1h   \n",
      "1                Prison Break: Sequel    9.3     45min   \n",
      "2                     Game of Thrones    9.5     56min   \n",
      "3                    The Walking Dead    8.5     44min   \n",
      "4                     Big Little Lies    8.7        1h   \n",
      "5                    Better Call Saul    8.7     46min   \n",
      "6                            Homeland    8.4     55min   \n",
      "7                           Iron Fist    7.3     55min   \n",
      "8                           Riverdale    8.0     45min   \n",
      "9                           Shameless    8.7     46min   \n",
      "10                       Prison Break    8.5     44min   \n",
      "11                     Rick and Morty    9.3     22min   \n",
      "12                     Grey's Anatomy    7.7     41min   \n",
      "13                          The Flash    8.1     43min   \n",
      "14                The Big Bang Theory    8.3     22min   \n",
      "15                             Legion    8.7        1h   \n",
      "16                       Supernatural    8.6     44min   \n",
      "17                            Vikings    8.7     44min   \n",
      "18                            The Son    7.0     44min   \n",
      "19                                 It    6.9  3h 12min   \n",
      "20                              Arrow    7.8     42min   \n",
      "21                              Fargo    9.0     53min   \n",
      "22                      American Gods    8.0        1h   \n",
      "23                            The 100    7.8     43min   \n",
      "24                           Billions    8.4        1h   \n",
      "25                       Breaking Bad    9.5     49min   \n",
      "26                       Black Mirror    8.9        1h   \n",
      "27                    Stranger Things    9.0     55min   \n",
      "28                        Bates Motel    8.2     45min   \n",
      "29                   Once Upon a Time    7.9     44min   \n",
      "..                                ...    ...       ...   \n",
      "68                            iZombie    8.0     42min   \n",
      "69  Law & Order: Special Victims Unit    8.1        1h   \n",
      "70                  Grace and Frankie    8.2     30min   \n",
      "71                    Sons of Anarchy    8.6     45min   \n",
      "72                      Hawaii Five-0    7.4     42min   \n",
      "73                           Sherlock    9.2  1h 28min   \n",
      "74                           New Girl    7.7     22min   \n",
      "75                             Gotham    7.9     42min   \n",
      "76                            Scandal    7.8     43min   \n",
      "77                     Peaky Blinders    8.8        1h   \n",
      "78                 Brooklyn Nine-Nine    8.3     22min   \n",
      "79                               Lost    8.4     44min   \n",
      "80              How I Met Your Mother    8.4     22min   \n",
      "81                             Colony    7.3     42min   \n",
      "82                         Twin Peaks    8.9     47min   \n",
      "83                              Grimm    7.8     45min   \n",
      "84                          Blindspot    7.6     42min   \n",
      "85                       Wynonna Earp    7.3        1h   \n",
      "86                              Reign    7.6     42min   \n",
      "87                         Elementary    7.9        1h   \n",
      "88                      Jessica Jones    8.2     56min   \n",
      "89          The Blacklist: Redemption    7.3     43min   \n",
      "90        How to Get Away with Murder    8.3     43min   \n",
      "91                            Mad Men    8.6     47min   \n",
      "92                            Lucifer    8.3     42min   \n",
      "93                             Narcos    8.9     49min   \n",
      "94               Parks and Recreation    8.6     22min   \n",
      "95  It's Always Sunny in Philadelphia    8.8     22min   \n",
      "96                      Gilmore Girls    8.1     44min   \n",
      "97                      Downton Abbey    8.7     58min   \n",
      "\n",
      "                                  Studio    Males   Female Aged under 18  \\\n",
      "0                                Netflix    19820    12394          1066   \n",
      "1            20th Century Fox Television     7359     1324           245   \n",
      "2                  Home Box Office (HBO)   677039   184548          4931   \n",
      "3                                    2BE   419935   108806          3837   \n",
      "4                  Home Box Office (HBO)     7253     8604            95   \n",
      "5          American Movie Classics (AMC)   118059    15049           927   \n",
      "6                      Showtime Networks   154801    43128           274   \n",
      "7         Disney-ABC Domestic Television    26795     3636           434   \n",
      "8     The CW Television Network (The CW)     5436     6509           445   \n",
      "9                      Showtime Networks    65369    29023           508   \n",
      "10                           Fox Network   238085    52241          1330   \n",
      "11                            Adult Swim    74120     9384          1215   \n",
      "12                Buena Vista Television    56039    85253           680   \n",
      "13    The CW Television Network (The CW)   121157    27092          2811   \n",
      "14    Columbia Broadcasting System (CBS)   329214   120059          2437   \n",
      "15        Disney-ABC Domestic Television    19769     4471           330   \n",
      "16               Warner Bros. Television   149603    91620          1810   \n",
      "17                        MGM Television   142356    34596           914   \n",
      "18         American Movie Classics (AMC)      285       89             2   \n",
      "19   American Broadcasting Company (ABC)    48643    11993           190   \n",
      "20               Warner Bros. Television   191793    51001          2677   \n",
      "21                            FX Network   130989    23672           625   \n",
      "22                                Starz!      202       44             4   \n",
      "23    The CW Television Network (The CW)    55397    30658          1384   \n",
      "24                            FX Network    17056     3159            42   \n",
      "25         American Movie Classics (AMC)   620168   116490          4336   \n",
      "26                             Channel 4    73380    21826           574   \n",
      "27                               Netflix   162262    46262          2138   \n",
      "28               A&E Television Networks    32916    19206           286   \n",
      "29        Disney-ABC Domestic Television    57879    82022          1254   \n",
      "..                                   ...      ...      ...           ...   \n",
      "68    The CW Television Network (The CW)    17796    11257           304   \n",
      "69   National Broadcasting Company (NBC)    23613    22515           122   \n",
      "70                               Netflix     4964     6498            45   \n",
      "71                            FX Network   120890    35623           382   \n",
      "72    Columbia Broadcasting System (CBS)    27171    14123           240   \n",
      "73                         BBC Worldwide   316133   117084          3783   \n",
      "74           20th Century Fox Television    63344    56195           538   \n",
      "75                           Fox Network    92705    19584          1198   \n",
      "76   American Broadcasting Company (ABC)    16991    25188           131   \n",
      "77  Endemol Worldwide Distribution (EWD)    45851    12929           288   \n",
      "78                           Fox Network    45275    14152           549   \n",
      "79   American Broadcasting Company (ABC)   266941    70300           931   \n",
      "80           20th Century Fox Television   285604   103306          2197   \n",
      "81                           USA Network     8241     2448            48   \n",
      "82   American Broadcasting Company (ABC)    78108    22308           223   \n",
      "83   National Broadcasting Company (NBC)    43292    28340           344   \n",
      "84   National Broadcasting Company (NBC)    21492    10569           210   \n",
      "85                     IDW Entertainment     1696     2225            33   \n",
      "86    The CW Television Network (The CW)     5769    17480           293   \n",
      "87    Columbia Broadcasting System (CBS)    41158    22262           245   \n",
      "88                               Netflix    70436    18984           918   \n",
      "89   National Broadcasting Company (NBC)     1158      430            12   \n",
      "90        Disney-ABC Domestic Television    27215    27620           528   \n",
      "91                    A-Film Benelux MSD    91163    34716           160   \n",
      "92                               DiziMax    36589    16237           643   \n",
      "93                         Atlantic Film   116338    16301           835   \n",
      "94   National Broadcasting Company (NBC)    77618    30408           631   \n",
      "95                            FX Network    97897    20593           263   \n",
      "96            WB Television Network, The    19706    40796           187   \n",
      "97          Independent Television (ITV)    44379    52291           268   \n",
      "\n",
      "   Males under 18 Females under 18 Aged 18-29 Males Aged 18-29  \\\n",
      "0             559              499      18562            11064   \n",
      "1             204               41       5063             4318   \n",
      "2            3654             1240     448438           345440   \n",
      "3            2931              882     252879           199657   \n",
      "4              52               42       6762             2885   \n",
      "5             864               59      67576            60123   \n",
      "6             212               58      74090            57735   \n",
      "7             385               46      13145            11503   \n",
      "8             161              283       4908             2131   \n",
      "9             295              211      48095            31788   \n",
      "10           1017              305     155974           126654   \n",
      "11           1076              132      52410            45495   \n",
      "12            188              480      68748            23280   \n",
      "13           2142              648      80623            65259   \n",
      "14           1703              711     230998           164704   \n",
      "15            273               53      11235             9078   \n",
      "16            802              993     132113            80408   \n",
      "17            723              187      82893            66342   \n",
      "18              2               82         75                7   \n",
      "19            152               35      20811            15604   \n",
      "20           2009              651     134456           106209   \n",
      "21            539               81      71142            60013   \n",
      "22              4              103         85               16   \n",
      "23            651              726      42531            25320   \n",
      "24             38                4       6444             5618   \n",
      "25           3693              615     381150           318080   \n",
      "26            433              129      47196            34778   \n",
      "27           1494              615      94141            70633   \n",
      "28            153              128      23354            13833   \n",
      "29            410              832      66381            23279   \n",
      "..            ...              ...        ...              ...   \n",
      "68            152              151      13913             8044   \n",
      "69             43               76      16789             7562   \n",
      "70             23               19       3497             1439   \n",
      "71            298               79      62095            48530   \n",
      "72            148               89      16709            10732   \n",
      "73           2466             1277     242148           173353   \n",
      "74            225              304      68143            32785   \n",
      "75            978              212      55519            45536   \n",
      "76             49               82      15864             5673   \n",
      "77            221               63      28476            22095   \n",
      "78            397              143      32103            23537   \n",
      "79            682              238     148617           113900   \n",
      "80           1491              680     230730           165032   \n",
      "81             42                6       2748             2187   \n",
      "82            170               49      36109            26600   \n",
      "83            196              146      26792            15873   \n",
      "84            109              100      12094             7724   \n",
      "85              6               27       1387              409   \n",
      "86             33              256      12402             2405   \n",
      "87            131              113      24694            15197   \n",
      "88            719              191      43047            32595   \n",
      "89              7                5        446              351   \n",
      "90            237              284      29097            13575   \n",
      "91            128               28      49272            35180   \n",
      "92            435              205      25004            17410   \n",
      "93            746               82      66717            57651   \n",
      "94            410              211      58075            39616   \n",
      "95            217               42      58271            47048   \n",
      "96             34              151      28174             6511   \n",
      "97            130              132      34936            13720   \n",
      "\n",
      "   Females Aged 18-29 Aged 30-44 Males Aged 30-44 Females Aged 30-44 Aged 45+  \\\n",
      "0                7301       7085             4559               2411     1347   \n",
      "1                 715       1629             1324                292      282   \n",
      "2               98661     282866           223056              55452    49340   \n",
      "3               50501     186677           147150              36617    37133   \n",
      "4                3788       5914             2784               3025     1769   \n",
      "5                6738      44233            38468               5135    10687   \n",
      "6               15547      87967            67997              18559    22260   \n",
      "7                1510      10701             9259               1286     2554   \n",
      "8                2710       4832             2130               2675      689   \n",
      "9               15779      32494            23470               8601     7245   \n",
      "10              28232     106296            87334              17984    12174   \n",
      "11               6260      21046            18863               1872     2770   \n",
      "12              44730      53472            24141              28664     9793   \n",
      "13              14657      39181            31784               6872     9241   \n",
      "14              63683     155145           115138              37652    29774   \n",
      "15               2032       7982             6473               1402     2234   \n",
      "16              50459      76083            48358              26850    15260   \n",
      "17              15742      62093            49666              11560    15248   \n",
      "18                140        101               37                122       81   \n",
      "19               5039      32483            26771               5418     5779   \n",
      "20              27108      66139            51076              14179    15045   \n",
      "21              10371      58242            48732               8562    14950   \n",
      "22                 74         65                9                 36       25   \n",
      "23              16775      26113            18323               7440     7156   \n",
      "24                749       8914             7443               1330     3159   \n",
      "25              59523     243620           203322              36828    44633   \n",
      "26              11775      35476            27909               6976     6319   \n",
      "27              22387      77083            61431              14375    14039   \n",
      "28               9265      18700            12389               6062     5477   \n",
      "29              42289      48206            22317              25213    13302   \n",
      "..                ...        ...              ...                ...      ...   \n",
      "68               5708       9870             6205               3538     2963   \n",
      "69               9087      19855            10743               8909     6976   \n",
      "70               2016       4302             1946               2282     2712   \n",
      "71              12976      66398            50882              14702    15069   \n",
      "72               5794      14697             9810               4711     7094   \n",
      "73              66314     128591            94847              31815    27905   \n",
      "74              34494      37993            22030              15429     5631   \n",
      "75               9451      35430            29013               5923     9068   \n",
      "76               9978      16462             6848               9359     6057   \n",
      "77               6064      19429            15004               4169     5541   \n",
      "78               8149      19263            14954               4058     3490   \n",
      "79              33430     151362           122071              27611    22757   \n",
      "80              63169     120341            89540              29096    12926   \n",
      "81                532       4740             3657               1022     2309   \n",
      "82               9139      49947            39408               9929    11864   \n",
      "83              10657      28603            17386              10847    10980   \n",
      "84               4229      11875             8064               3643     4919   \n",
      "85                948       1289              686                584      677   \n",
      "86               9863       6348             1944               4316     2317   \n",
      "87               9210      24946            16490               8109     9537   \n",
      "88               9903      31298            24995               5820     7209   \n",
      "89                 93        579              407                164      400   \n",
      "90              15190      15769             8254               7263     4685   \n",
      "91              13555      56316            40827              14675    15125   \n",
      "92               7312      15904            10872               4832     5447   \n",
      "93               8380      45523            39626               5181     7666   \n",
      "94              17787      37919            28484               8938     6156   \n",
      "95              10729      49262            41137               7661     6220   \n",
      "96              21377      25334            10195              14857     4370   \n",
      "97              20809      37954            17988              19374    18238   \n",
      "\n",
      "   Males Aged 45+ Females Aged 45+ IMDb staff  \\\n",
      "0             852              470          3   \n",
      "1             187               89          1   \n",
      "2           36828            11608         68   \n",
      "3           27303             9177         39   \n",
      "4             882              848          6   \n",
      "5            8652             1859         16   \n",
      "6           16453             5393         22   \n",
      "7            2136              367          4   \n",
      "8             461              215         79   \n",
      "9            5009             2130          7   \n",
      "10           9281             2714         15   \n",
      "11           2353              338         12   \n",
      "12           4864             4803         11   \n",
      "13           7174             1928          8   \n",
      "14          21036             8261         33   \n",
      "15           1681              501          5   \n",
      "16           8770             6269         11   \n",
      "17          11237             3767          9   \n",
      "18             38               18        126   \n",
      "19           4609             1075          5   \n",
      "20          10931             3885         10   \n",
      "21          11758             2922         14   \n",
      "22             11               14         61   \n",
      "23           5044             2016          7   \n",
      "24           2338              753          8   \n",
      "25          35028             8786         65   \n",
      "26           4914             1239         14   \n",
      "27          10669             3084         34   \n",
      "28           3543             1841          4   \n",
      "29           6875             6233         11   \n",
      "..            ...              ...        ...   \n",
      "68           2012              904          6   \n",
      "69           3975             2920          5   \n",
      "70           1121             1549          5   \n",
      "71          10556             4311         13   \n",
      "72           4529             2472          4   \n",
      "73          19264             8135         49   \n",
      "74           3703             1837         10   \n",
      "75           6986             1961          8   \n",
      "76           2755             3198          7   \n",
      "77           4012             1428          6   \n",
      "78           2664              769          7   \n",
      "79          17117             5271         29   \n",
      "80           9416             3282         31   \n",
      "81           1618              654          2   \n",
      "82           9309             2365         21   \n",
      "83           6414             4424          5   \n",
      "84           3364             1479          2   \n",
      "85            456              211         68   \n",
      "86            904             1381          2   \n",
      "87           6233             3187          6   \n",
      "88           5688             1385          9   \n",
      "89            268              122         39   \n",
      "90           2407             2200          7   \n",
      "91          10291             4590         25   \n",
      "92           3519             1861          5   \n",
      "93           6489             1022         11   \n",
      "94           4539             1519         28   \n",
      "95           4935             1168         15   \n",
      "96           2200             2110         12   \n",
      "97           9669             8279         29   \n",
      "\n",
      "                                US users  \n",
      "0                                   5358  \n",
      "1                                    854  \n",
      "2                                 104305  \n",
      "3                                  92210  \n",
      "4                                   3407  \n",
      "5                                  19230  \n",
      "6                                  28222  \n",
      "7                                   5601  \n",
      "8                                   4308  \n",
      "9                                  19834  \n",
      "10                                 27756  \n",
      "11                                 14906  \n",
      "12                                 26569  \n",
      "13                                 19885  \n",
      "14                                 64350  \n",
      "15                                  4351  \n",
      "16                                 40570  \n",
      "17                                 18482  \n",
      "18   IMDb users                           \n",
      "19                                 16872  \n",
      "20                                 29660  \n",
      "21                                 21685  \n",
      "22   IMDb users                           \n",
      "23                                 11132  \n",
      "24                                  3263  \n",
      "25                                109135  \n",
      "26                                 12391  \n",
      "27                                 34603  \n",
      "28                                 12988  \n",
      "29                                 30523  \n",
      "..                                   ...  \n",
      "68                                  5765  \n",
      "69                                 19509  \n",
      "70                                  3443  \n",
      "71                                 34030  \n",
      "72                                  9260  \n",
      "73                                 53915  \n",
      "74                                 23043  \n",
      "75                                 17068  \n",
      "76                                 11265  \n",
      "77                                  8121  \n",
      "78                                 10428  \n",
      "79                                 64986  \n",
      "80                                 53358  \n",
      "81                                  2260  \n",
      "82                                 18916  \n",
      "83                                 15955  \n",
      "84                                  5109  \n",
      "85                                  1589  \n",
      "86                                  4566  \n",
      "87                                 11105  \n",
      "88                                 16499  \n",
      "89                                   666  \n",
      "90                                  8637  \n",
      "91                                 34331  \n",
      "92                                  6542  \n",
      "93                                 12418  \n",
      "94                                 36768  \n",
      "95                                 48378  \n",
      "96                                 15197  \n",
      "97                                 23927  \n",
      "\n",
      "[98 rows x 20 columns]\n"
     ]
    }
   ],
   "source": [
    "print result"
   ]
  },
  {
   "cell_type": "code",
   "execution_count": 128,
   "metadata": {
    "collapsed": true
   },
   "outputs": [],
   "source": [
    "title=pd.DataFrame(title_dict)\n",
    "\n",
    "rating=pd.DataFrame(rating_dict)\n",
    "\n",
    "runtime=pd.DataFrame(runtime_dict)\n",
    "\n",
    "studio=pd.DataFrame(studio_dict)\n",
    "\n",
    "Rating_Males=pd.DataFrame(males_dict)\n",
    "Average_Rating_Males=pd.DataFrame(average_males_dict)\n",
    "\n",
    "Rating_Females=pd.DataFrame(female_dict)\n",
    "Average_Rating_Females=pd.DataFrame(average_females_dict)##\n",
    "\n",
    "Rating_Aged_under_18=pd.DataFrame(aged_under_18_dict)\n",
    "Average_Rating_Aged_under_18=pd.DataFrame(average_aged_under_18_dict)\n",
    "\n",
    "Rating_Males_under_18=pd.DataFrame(males_under_18_dict)\n",
    "Average_Rating_Males_under_18=pd.DataFrame(average_males_under_18_dict)\n",
    "\n",
    "Rating_Females_under_18=pd.DataFrame(females_under_18_dict)\n",
    "Average_Rating_Females_under_18=pd.DataFrame(average_females_under_18_dict)\n",
    "\n",
    "Rating_Aged_18_29=pd.DataFrame(aged_18_29_dict)\n",
    "Average_Rating_Aged_18_29=pd.DataFrame(average_aged_18_29_dict)\n",
    "\n",
    "Rating_Males_Aged_18_29=pd.DataFrame(males_aged_18_29_dict)\n",
    "Average_Rating_Males_Aged_18_29=pd.DataFrame(average_males_aged_18_29_dict)\n",
    "\n",
    "Rating_Females_Aged_18_29=pd.DataFrame(females_aged_18_29_dict)\n",
    "Average_Rating_Females_Aged_18_29=pd.DataFrame(average_females_aged_18_29_dict)\n",
    "\n",
    "Rating_Aged_30_44=pd.DataFrame(aged_30_44_dict)\n",
    "Average_Rating_Aged_30_44=pd.DataFrame(average_aged_30_44_dict)\n",
    "\n",
    "Rating_Males_Aged_30_44=pd.DataFrame(males_aged_30_44_dict)\n",
    "Average_Rating_Males_Aged_30_44=pd.DataFrame(average_males_aged_30_44_dict)\n",
    "\n",
    "Rating_Females_Aged_30_44=pd.DataFrame(females_aged_40_44_dict)\n",
    "Average_Rating_Females_Aged_30_44=pd.DataFrame(average_females_aged_30_44_dict)\n",
    "\n",
    "Rating_Aged_45_plus=pd.DataFrame(aged_45_plus_dict)\n",
    "Average_Rating_Aged_45_plus=pd.DataFrame(average_aged_45_plus_dict)\n",
    "\n",
    "Rating_Males_Aged_45_plus=pd.DataFrame(males_45_plus_dict)\n",
    "Average_Rating_Males_Aged_45_plus=pd.DataFrame(average_males_45_plus_dict)\n",
    "\n",
    "Rating_Females_Aged_45_plus=pd.DataFrame(females_45_plus_dict)\n",
    "Average_Rating_Females_Aged_45_plus=pd.DataFrame(average_females_45_plus_dict)\n",
    "\n",
    "Rating_Imdb_staff=pd.DataFrame(imdb_staff_dict)\n",
    "Average_Rating_Imdb_staff=pd.DataFrame(average_imdb_staff_dict)\n",
    "\n",
    "Rating_Us_Users=pd.DataFrame(us_users_dict)\n",
    "Average_Rating_Us_Users=pd.DataFrame(average_us_users_dict)\n",
    "\n",
    "frame=[title,rating,runtime,studio,\n",
    "       Rating_Males,Average_Rating_Males,\n",
    "       Rating_Females,Average_Rating_Females,\n",
    "       Rating_Aged_under_18,Average_Rating_Aged_under_18,\n",
    "       Rating_Males_under_18,Average_Rating_Males_under_18,\n",
    "       Rating_Females_under_18,Average_Rating_Females_under_18,\n",
    "       Rating_Aged_18_29,Average_Rating_Aged_18_29,\n",
    "       Rating_Males_Aged_18_29,Average_Rating_Males_Aged_18_29,\n",
    "       Rating_Females_Aged_18_29,Average_Rating_Females_Aged_18_29,\n",
    "       Rating_Aged_30_44,Average_Rating_Aged_30_44,\n",
    "       Rating_Males_Aged_30_44,Average_Rating_Males_Aged_30_44,\n",
    "       Rating_Females_Aged_30_44,Average_Rating_Females_Aged_30_44,\n",
    "       Rating_Aged_45_plus,Average_Rating_Aged_45_plus,\n",
    "       Rating_Males_Aged_45_plus,Average_Rating_Males_Aged_45_plus,\n",
    "       Rating_Females_Aged_45_plus,Average_Rating_Females_Aged_45_plus,\n",
    "       Rating_Imdb_staff,Average_Rating_Imdb_staff,\n",
    "       Rating_Us_Users,Average_Rating_Us_Users]\n",
    "result=pd.concat(frame,axis=1)"
   ]
  }
 ],
 "metadata": {
  "anaconda-cloud": {},
  "kernelspec": {
   "display_name": "Python 2",
   "language": "python",
   "name": "python2"
  },
  "language_info": {
   "codemirror_mode": {
    "name": "ipython",
    "version": 2
   },
   "file_extension": ".py",
   "mimetype": "text/x-python",
   "name": "python",
   "nbconvert_exporter": "python",
   "pygments_lexer": "ipython2",
   "version": "2.7.13"
  }
 },
 "nbformat": 4,
 "nbformat_minor": 1
}
